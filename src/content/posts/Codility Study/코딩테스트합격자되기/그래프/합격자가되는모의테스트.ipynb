{
 "cells": [
  {
   "cell_type": "markdown",
   "id": "1483a0f1",
   "metadata": {},
   "source": [
    "---\n",
    "title: \"합격자가 되는 모의 테스트 - 그래프\"\n",
    "date: \"2025-08-03\"\n",
    "category: \"Codility Study\"\n",
    "tags: [\"코딩 테스트 합격자 되기\", \"Codility Study\", \"그래프\", \"알고리즘\"]\n",
    "excerpt: \"그래프 탐색 파이썬 구현\"\n",
    "---"
   ]
  },
  {
   "cell_type": "markdown",
   "id": "9a15dd5a",
   "metadata": {},
   "source": [
    "# 문제 42: 게임 맵 최단 거리\n",
    "\n",
    "https://school.programmers.co.kr/learn/courses/30/lessons/1844"
   ]
  },
  {
   "cell_type": "markdown",
   "id": "10a5453b",
   "metadata": {},
   "source": [
    "5x5 크기의 게임맵에서 (1, 1) -> (5, 5)까지 가는 최단거리를 구하는 문제   \n",
    "\n",
    "제약조건\n",
    "- maps는 n x m 크기의 게임 맵의 상태가 들어 있는 2차원 배열.\n",
    "    - 1 <= n, m <= 100\n",
    "    - n과 m은 같거나 다를 수 있음\n",
    "- maps는 0과 1로 구성됨\n",
    "    - 0 : 벽\n",
    "    - 1 : 벽이 없는 자리"
   ]
  },
  {
   "cell_type": "code",
   "execution_count": 11,
   "id": "963eacb5",
   "metadata": {},
   "outputs": [
    {
     "name": "stdout",
     "output_type": "stream",
     "text": [
      "0 0 0\n",
      "[]\n"
     ]
    },
    {
     "ename": "AssertionError",
     "evalue": "",
     "output_type": "error",
     "traceback": [
      "\u001b[31m---------------------------------------------------------------------------\u001b[39m",
      "\u001b[31mAssertionError\u001b[39m                            Traceback (most recent call last)",
      "\u001b[36mCell\u001b[39m\u001b[36m \u001b[39m\u001b[32mIn[11]\u001b[39m\u001b[32m, line 33\u001b[39m\n\u001b[32m     31\u001b[39m solution_1 = solution(maps=[[\u001b[32m1\u001b[39m,\u001b[32m0\u001b[39m,\u001b[32m1\u001b[39m,\u001b[32m1\u001b[39m,\u001b[32m1\u001b[39m],[\u001b[32m1\u001b[39m,\u001b[32m0\u001b[39m,\u001b[32m1\u001b[39m,\u001b[32m0\u001b[39m,\u001b[32m1\u001b[39m],[\u001b[32m1\u001b[39m,\u001b[32m0\u001b[39m,\u001b[32m1\u001b[39m,\u001b[32m1\u001b[39m,\u001b[32m1\u001b[39m],[\u001b[32m1\u001b[39m,\u001b[32m1\u001b[39m,\u001b[32m1\u001b[39m,\u001b[32m0\u001b[39m,\u001b[32m1\u001b[39m],[\u001b[32m0\u001b[39m,\u001b[32m0\u001b[39m,\u001b[32m0\u001b[39m,\u001b[32m0\u001b[39m,\u001b[32m1\u001b[39m]])\n\u001b[32m     32\u001b[39m \u001b[38;5;28mprint\u001b[39m(solution_1)\n\u001b[32m---> \u001b[39m\u001b[32m33\u001b[39m \u001b[38;5;28;01massert\u001b[39;00m solution_1 == \u001b[32m11\u001b[39m\n\u001b[32m     35\u001b[39m solution_2 = solution(maps=[[\u001b[32m1\u001b[39m,\u001b[32m0\u001b[39m,\u001b[32m1\u001b[39m,\u001b[32m1\u001b[39m,\u001b[32m1\u001b[39m],[\u001b[32m1\u001b[39m,\u001b[32m0\u001b[39m,\u001b[32m1\u001b[39m,\u001b[32m0\u001b[39m,\u001b[32m1\u001b[39m],[\u001b[32m1\u001b[39m,\u001b[32m0\u001b[39m,\u001b[32m1\u001b[39m,\u001b[32m1\u001b[39m,\u001b[32m1\u001b[39m],[\u001b[32m1\u001b[39m,\u001b[32m1\u001b[39m,\u001b[32m1\u001b[39m,\u001b[32m0\u001b[39m,\u001b[32m0\u001b[39m],[\u001b[32m0\u001b[39m,\u001b[32m0\u001b[39m,\u001b[32m0\u001b[39m,\u001b[32m0\u001b[39m,\u001b[32m1\u001b[39m]])\n\u001b[32m     36\u001b[39m \u001b[38;5;28mprint\u001b[39m(solution_2)\n",
      "\u001b[31mAssertionError\u001b[39m: "
     ]
    }
   ],
   "source": [
    "def solution(maps: list) -> int:\n",
    "    # 관련 값들 정의\n",
    "    start_x, start_y = 0, 0\n",
    "    end_x, end_y = len(maps[0]) - 1, len(maps[1]) -1\n",
    "\n",
    "    distance_list = []\n",
    "\n",
    "    def bfs(x, y, distance):\n",
    "        print(x, y, distance)\n",
    "        if x == end_x and y == end_y:\n",
    "            distance_list.append(distance)\n",
    "            return\n",
    "\n",
    "        if 0 < x + 1 < end_x and 0 < y < end_y and maps[x + 1][y] == 1:\n",
    "            maps[x + 1][y] = 0\n",
    "            bfs(x + 1, y, distance + 1)\n",
    "        elif 0 < x - 1 < end_x and 0 < y < end_y and maps[x -1][y] == 1:\n",
    "            maps[x - 1][y] = 0\n",
    "            bfs(x - 1, y, distance + 1)\n",
    "        elif 0 < x  < end_x and 0 < y - 1 < end_y and maps[x][y - 1] == 1:\n",
    "            maps[x][y - 1] = 0\n",
    "            bfs(x, y - 1, distance + 1)\n",
    "        elif 0 < x  < end_x and 0 < y + 1 < end_y and maps[x][y + 1] == 1:\n",
    "            maps[x][y + 1] = 0\n",
    "            bfs(x, y + 1, distance + 1)\n",
    "\n",
    "    bfs(start_x, start_y, 0)\n",
    "    \n",
    "    return distance_list\n",
    "\n",
    "solution_1 = solution(maps=[[1,0,1,1,1],[1,0,1,0,1],[1,0,1,1,1],[1,1,1,0,1],[0,0,0,0,1]])\n",
    "print(solution_1)\n",
    "assert solution_1 == 11\n",
    "\n",
    "solution_2 = solution(maps=[[1,0,1,1,1],[1,0,1,0,1],[1,0,1,1,1],[1,1,1,0,0],[0,0,0,0,1]])\n",
    "print(solution_2)\n",
    "assert solution_2 == -1"
   ]
  },
  {
   "cell_type": "code",
   "execution_count": 17,
   "id": "9af05446",
   "metadata": {},
   "outputs": [
    {
     "name": "stdout",
     "output_type": "stream",
     "text": [
      "11\n",
      "-1\n"
     ]
    }
   ],
   "source": [
    "from collections import deque\n",
    "\n",
    "def solution(maps: list) -> int:\n",
    "    # 1. 이동할 수 있는 방향 정의\n",
    "    move = [[-1, 0], [0, -1], [0, 1], [1, 0]]\n",
    "\n",
    "    # 2. 맵의 크기 저장\n",
    "    n = len(maps)\n",
    "    m = len(maps[0])\n",
    "\n",
    "    # 3. 거리를 저장하는 배열 초기화\n",
    "    dist = [[-1] * m for _ in range(n)]\n",
    "\n",
    "    # 4. bfs \n",
    "    def bfs(start):\n",
    "        q = deque([start])\n",
    "        dist[start[0]][start[1]] = 1\n",
    "\n",
    "        while q:\n",
    "            here = q.popleft()\n",
    "\n",
    "            for direct in move:\n",
    "                row, column = here[0] + direct[0], here[1] + direct[1]\n",
    "\n",
    "                if row < 0 or row >= n or column < 0 or column >= m:\n",
    "                    continue\n",
    "\n",
    "                if maps[row][column] == 0:\n",
    "                    continue\n",
    "\n",
    "                if dist[row][column] == -1:\n",
    "                    q.append([row, column])\n",
    "                    dist[row][column] = dist[here[0]][here[1]] + 1\n",
    "\n",
    "        return dist\n",
    "\n",
    "    bfs([0, 0])\n",
    "\n",
    "    return dist[n - 1][m - 1]\n",
    "\n",
    "solution_1 = solution(maps=[[1,0,1,1,1],[1,0,1,0,1],[1,0,1,1,1],[1,1,1,0,1],[0,0,0,0,1]])\n",
    "print(solution_1)\n",
    "assert solution_1 == 11\n",
    "\n",
    "solution_2 = solution(maps=[[1,0,1,1,1],[1,0,1,0,1],[1,0,1,1,1],[1,1,1,0,0],[0,0,0,0,1]])\n",
    "print(solution_2)\n",
    "assert solution_2 == -1"
   ]
  },
  {
   "cell_type": "code",
   "execution_count": null,
   "id": "d4917d95",
   "metadata": {},
   "outputs": [],
   "source": []
  },
  {
   "cell_type": "code",
   "execution_count": null,
   "id": "52178fb4",
   "metadata": {},
   "outputs": [],
   "source": []
  }
 ],
 "metadata": {
  "kernelspec": {
   "display_name": "base",
   "language": "python",
   "name": "python3"
  },
  "language_info": {
   "codemirror_mode": {
    "name": "ipython",
    "version": 3
   },
   "file_extension": ".py",
   "mimetype": "text/x-python",
   "name": "python",
   "nbconvert_exporter": "python",
   "pygments_lexer": "ipython3",
   "version": "3.12.2"
  }
 },
 "nbformat": 4,
 "nbformat_minor": 5
}
