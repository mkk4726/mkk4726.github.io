{
 "cells": [
  {
   "cell_type": "markdown",
   "id": "d560dd19",
   "metadata": {},
   "source": [
    "---\n",
    "title: \"그래프 탐색 파이썬 구현\"\n",
    "date: \"2025-08-01\"\n",
    "category: \"Codility Study\"\n",
    "tags: [\"코딩 테스트 합격자 되기\", \"Codility Study\", \"그래프\", \"알고리즘\"]\n",
    "excerpt: \"그래프 탐색 파이썬 구현\"\n",
    "---"
   ]
  },
  {
   "cell_type": "markdown",
   "id": "eeec6e87",
   "metadata": {},
   "source": [
    "# DFS 구현\n",
    "\n",
    "![DFS 그래프 그림](/post/CodilityStudy/DFS_그려보기.png)"
   ]
  },
  {
   "cell_type": "code",
   "execution_count": null,
   "id": "334693f1",
   "metadata": {},
   "outputs": [],
   "source": []
  },
  {
   "cell_type": "code",
   "execution_count": null,
   "id": "abe3c45e",
   "metadata": {},
   "outputs": [],
   "source": []
  },
  {
   "cell_type": "code",
   "execution_count": null,
   "id": "9964b04b",
   "metadata": {},
   "outputs": [],
   "source": []
  }
 ],
 "metadata": {
  "kernelspec": {
   "display_name": "ocr_venv",
   "language": "python",
   "name": "python3"
  },
  "language_info": {
   "name": "python",
   "version": "3.10.8"
  }
 },
 "nbformat": 4,
 "nbformat_minor": 5
}
