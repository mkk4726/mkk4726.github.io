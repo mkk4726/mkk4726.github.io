{
 "cells": [
  {
   "cell_type": "markdown",
   "id": "d560dd19",
   "metadata": {},
   "source": [
    "---\n",
    "title: \"그래프 탐색 파이썬 구현\"\n",
    "date: \"2025-08-01\"\n",
    "category: \"Codility Study\"\n",
    "tags: [\"코딩 테스트 합격자 되기\", \"Codility Study\", \"그래프\", \"알고리즘\"]\n",
    "excerpt: \"그래프 탐색 파이썬 구현\"\n",
    "---"
   ]
  },
  {
   "cell_type": "markdown",
   "id": "eeec6e87",
   "metadata": {},
   "source": [
    "# DFS 구현\n",
    "\n",
    "로직 적어보기\n",
    "\n",
    "1. 방문하는 노드 스택에 넣기.    \n",
    "방문 했다면 아무것도 안함.   \n",
    "방문 안했다면 방문처리 하고, 인접 노드 스택에 넣기   \n",
    "2. 스택에서 꺼내서 방문 여부 확인"
   ]
  },
  {
   "cell_type": "code",
   "execution_count": null,
   "id": "334693f1",
   "metadata": {},
   "outputs": [],
   "source": []
  }
 ],
 "metadata": {
  "kernelspec": {
   "display_name": "ocr_venv",
   "language": "python",
   "name": "python3"
  },
  "language_info": {
   "name": "python",
   "version": "3.10.8"
  }
 },
 "nbformat": 4,
 "nbformat_minor": 5
}
