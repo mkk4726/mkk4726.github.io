{
 "cells": [
  {
   "cell_type": "markdown",
   "id": "d560dd19",
   "metadata": {},
   "source": [
    "---\n",
    "title: \"그래프 탐색 파이썬 구현\"\n",
    "date: \"2025-08-01\"\n",
    "category: \"Codility Study\"\n",
    "tags: [\"코딩 테스트 합격자 되기\", \"Codility Study\", \"그래프\", \"알고리즘\"]\n",
    "excerpt: \"그래프 탐색 파이썬 구현\"\n",
    "---"
   ]
  },
  {
   "cell_type": "markdown",
   "id": "eeec6e87",
   "metadata": {},
   "source": [
    "# DFS 구현\n",
    "\n",
    "![DFS 그래프 그림](/post/CodilityStudy/DFS_그려보기.png)"
   ]
  },
  {
   "cell_type": "code",
   "execution_count": 3,
   "id": "334693f1",
   "metadata": {},
   "outputs": [],
   "source": [
    "# 인접 리스트로 표시된 그래프\n",
    "graph = {\n",
    "    1: [4, 5],\n",
    "    2: [3],\n",
    "    3: [],\n",
    "    4: [2, 3],\n",
    "    5: [4]\n",
    "}\n",
    "# 방문 여부 \n",
    "visited = [False] * (len(graph) + 1)"
   ]
  },
  {
   "cell_type": "code",
   "execution_count": 7,
   "id": "abe3c45e",
   "metadata": {},
   "outputs": [
    {
     "name": "stdout",
     "output_type": "stream",
     "text": [
      "1\n",
      "4\n",
      "2\n",
      "3\n",
      "5\n"
     ]
    }
   ],
   "source": [
    "def dfs(current_node):\n",
    "    visited[current_node] = True\n",
    "    print(current_node)\n",
    "\n",
    "    for neighbor in graph[current_node]:\n",
    "        if not visited[neighbor]:\n",
    "            dfs(neighbor)\n",
    "\n",
    "dfs(1)"
   ]
  },
  {
   "cell_type": "markdown",
   "id": "849e972a",
   "metadata": {},
   "source": [
    "# BFS 구현"
   ]
  },
  {
   "cell_type": "code",
   "execution_count": null,
   "id": "ef1a138b",
   "metadata": {},
   "outputs": [],
   "source": [
    "from collections import deque\n",
    "\n",
    "# 인접 리스트로 표시된 그래프\n",
    "graph = {\n",
    "    1: [4, 5],\n",
    "    2: [3],\n",
    "    3: [],\n",
    "    4: [2, 3],\n",
    "    5: [4]\n",
    "}"
   ]
  },
  {
   "cell_type": "code",
   "execution_count": 10,
   "id": "9235f55c",
   "metadata": {},
   "outputs": [
    {
     "name": "stdout",
     "output_type": "stream",
     "text": [
      "1\n",
      "4\n",
      "5\n",
      "2\n",
      "3\n"
     ]
    }
   ],
   "source": [
    "def bfs(start_node):\n",
    "    # 방문 여부 \n",
    "    visited = [False] * (len(graph) + 1)\n",
    "\n",
    "    queue = deque([start_node])\n",
    "    visited[start_node] = True\n",
    "\n",
    "    while queue:\n",
    "        node = queue.popleft()\n",
    "        print(node)\n",
    "\n",
    "        for adj_node in graph[node]:\n",
    "            if not visited[adj_node]:\n",
    "                queue.append(adj_node)\n",
    "                visited[adj_node] = True\n",
    "            \n",
    "bfs(1)"
   ]
  },
  {
   "cell_type": "code",
   "execution_count": null,
   "id": "f4a31251",
   "metadata": {},
   "outputs": [],
   "source": []
  }
 ],
 "metadata": {
  "kernelspec": {
   "display_name": "ocr_venv",
   "language": "python",
   "name": "python3"
  },
  "language_info": {
   "codemirror_mode": {
    "name": "ipython",
    "version": 3
   },
   "file_extension": ".py",
   "mimetype": "text/x-python",
   "name": "python",
   "nbconvert_exporter": "python",
   "pygments_lexer": "ipython3",
   "version": "3.10.8"
  }
 },
 "nbformat": 4,
 "nbformat_minor": 5
}
