{
 "cells": [
  {
   "cell_type": "markdown",
   "id": "65685ec9",
   "metadata": {},
   "source": [
    "# 문제 38 : 깊이 우선 탐색 순회"
   ]
  },
  {
   "cell_type": "markdown",
   "id": "a0097deb",
   "metadata": {},
   "source": [
    "입출력의 예    \n",
    "graph : 인접리스트 / start / return : 리스트\n"
   ]
  },
  {
   "cell_type": "code",
   "execution_count": null,
   "id": "d9937a19",
   "metadata": {},
   "outputs": [],
   "source": [
    "def solution(graph: list[list[str]], start: str) -> list[str]:\n",
    "    def dfs(node):\n",
    "        # 방문했던 거면 pass\n",
    "        if visited[node]:\n",
    "            return \n",
    "\n",
    "        # 방문처리\n",
    "        visited[node] = True\n",
    "        visited_list.append(node)\n",
    "\n",
    "        if node in graph_list:\n",
    "            for adj_nodes in graph_list[node]:\n",
    "                dfs(adj_nodes)\n",
    "\n",
    "    graph_list = {}\n",
    "    node_set = set()\n",
    "    for start_node, end_node in graph:\n",
    "        if start_node in graph_list:\n",
    "            graph_list[start_node].append(end_node)\n",
    "        else:\n",
    "            graph_list[start_node] = [end_node]\n",
    "        node_set.add(start_node)\n",
    "        node_set.add(end_node)\n",
    "\n",
    "    \n",
    "    visited = {key: False for key in node_set}\n",
    "    # 노드가 숫자인 경우에는 [False] * len(node) 이런식으로 가능\n",
    "    visited_list = []\n",
    "\n",
    "    dfs(start)\n",
    "\n",
    "    return visited_list"
   ]
  },
  {
   "cell_type": "code",
   "execution_count": 80,
   "id": "f463e04c",
   "metadata": {},
   "outputs": [],
   "source": [
    "# 답안지 풀이\n",
    "from collections import defaultdict\n",
    "\n",
    "adj_list = defaultdict(list)\n",
    "visited = set()\n",
    "result = []\n",
    "\n",
    "def dfs(node):\n",
    "    visited.add(node)\n",
    "    result.append(node)\n",
    "\n",
    "    for adj_node in adj_list.get(node, []):\n",
    "        if adj_node not in visited:\n",
    "            dfs(adj_node)\n",
    "\n",
    "def solution(graph, start):\n",
    "    for u, v in graph:\n",
    "        adj_list[u].append(v)\n",
    "\n",
    "    dfs(start)\n",
    "\n",
    "    return result"
   ]
  },
  {
   "cell_type": "code",
   "execution_count": 79,
   "id": "ef224df2",
   "metadata": {},
   "outputs": [
    {
     "name": "stdout",
     "output_type": "stream",
     "text": [
      "['A', 'B', 'C', 'D', 'E']\n"
     ]
    }
   ],
   "source": [
    "solution_1 = solution(graph=[['A', 'B'], ['B', 'C'], ['C', 'D'], ['D', 'E']], start='A')\n",
    "print(solution_1)\n",
    "assert solution_1 == [\"A\", \"B\", \"C\", \"D\", \"E\"]"
   ]
  },
  {
   "cell_type": "code",
   "execution_count": 81,
   "id": "618e48cd",
   "metadata": {},
   "outputs": [
    {
     "name": "stdout",
     "output_type": "stream",
     "text": [
      "['A', 'B', 'D', 'E', 'F', 'C']\n"
     ]
    }
   ],
   "source": [
    "solution_2 = solution(graph=[['A', 'B'], ['A', 'C'], ['B', 'D'], ['B', 'E'], ['C', 'F'], ['E', 'F']], start='A')\n",
    "print(solution_2)\n",
    "assert solution_2 == [\"A\", \"B\", \"D\", \"E\", \"F\", \"C\"]"
   ]
  },
  {
   "cell_type": "markdown",
   "id": "dd039224",
   "metadata": {},
   "source": [
    "시간복잡도 계산하기 :   \n",
    "\n",
    "노드 개수 N, 간선 개수 E라고 하면, \n",
    "- 인접리스트 생성 : O(E)\n",
    "- 탐색시 모든 노드 방문 : O(N)\n",
    "\n",
    "따라서 O(N+E)"
   ]
  },
  {
   "cell_type": "markdown",
   "id": "55ef7d37",
   "metadata": {},
   "source": [
    "# 문제 39: 너비 우선 탐색 순회"
   ]
  },
  {
   "cell_type": "code",
   "execution_count": 93,
   "id": "9ec94ef8",
   "metadata": {},
   "outputs": [],
   "source": [
    "from queue import deque\n",
    "from collections import defaultdict\n",
    "\n",
    "def solution(graph: list, start:int) -> list:\n",
    "    adj_list = defaultdict(list)\n",
    "    visited = set()\n",
    "    for start_node, end_node in graph:\n",
    "        adj_list[start_node].append(end_node)\n",
    "\n",
    "    visited_list = []\n",
    "    # 헷갈릴 수 있는 포인트가, bfs는 바로 방문할거니까 넣으면서 방문했다는 표시 해주기\n",
    "    queue = deque()\n",
    "    queue.append(start)\n",
    "    visited.add(start)\n",
    "    visited_list.append(start)\n",
    "\n",
    "    while queue:\n",
    "        next_node = queue.popleft()\n",
    "        for adj_node in adj_list[next_node]:\n",
    "            if adj_node not in visited:\n",
    "                queue.append(adj_node)\n",
    "                visited.add(adj_node)\n",
    "                visited_list.append(adj_node)\n",
    "    return visited_list"
   ]
  },
  {
   "cell_type": "code",
   "execution_count": 94,
   "id": "6687a42d",
   "metadata": {},
   "outputs": [
    {
     "name": "stdout",
     "output_type": "stream",
     "text": [
      "[1, 2, 3, 4, 5, 6, 7, 8, 9]\n",
      "[1, 2, 3, 4, 5, 0]\n"
     ]
    }
   ],
   "source": [
    "solution_1 = solution(graph=[(1, 2), (1, 3), (2, 4), (2, 5), (3, 6), (3, 7), (4, 8), (5, 8), (6, 9), (7, 9)], start=1)\n",
    "print(solution_1)\n",
    "assert solution_1 == [1, 2, 3, 4, 5, 6, 7, 8, 9]\n",
    "\n",
    "solution_2 = solution(graph=[(0, 1), (1, 2), (2, 3), (3, 4), (4, 5), (5, 0)], start=1)\n",
    "print(solution_2)\n",
    "assert solution_2 == [1, 2, 3, 4, 5, 0]"
   ]
  },
  {
   "cell_type": "markdown",
   "id": "931ac47d",
   "metadata": {},
   "source": [
    "시간복잡도 : \n",
    "- adj_list 생성할 때 : O(E)\n",
    "- 탐색할 때 : O(N)"
   ]
  },
  {
   "cell_type": "markdown",
   "id": "51d8cbdb",
   "metadata": {},
   "source": [
    "# 문제 40: 다익스트라 알고리즘"
   ]
  },
  {
   "cell_type": "markdown",
   "id": "9ec2fdd7",
   "metadata": {},
   "source": [
    "시작노드에서 각 노드까지 최단거리 구하는 알고리즘"
   ]
  },
  {
   "cell_type": "code",
   "execution_count": null,
   "id": "168acb95",
   "metadata": {},
   "outputs": [],
   "source": [
    "from collections import defaultdict\n",
    "\n",
    "def solution(start:int, numNodes:int, edges:list) -> list:\n",
    "    adj_list = defaultdict(list)\n",
    "    check_nodes = set()\n",
    "\n",
    "    for start_node, end_node, weight in edges:\n",
    "        adj_list[start_node].append((end_node, weight))\n",
    "\n",
    "    # 1. 최단거리 결과를 담을 자료구조 \n",
    "    INF = 1e20\n",
    "    result = [INF] * len(adj_list)\n",
    "\n",
    "    result[start] = 0\n",
    "    check_nodes.add(0)\n",
    "    for end_node, weight in adj_list[start]:\n",
    "        if result[end_node] > weight:\n",
    "            result[end_node] = weight\n",
    "\n",
    "    # 2. 가장 작은 노드부터 greedy하게 갱신하기\n",
    "    # 가장 작은 거리인 노드를 찾는것도 짜줘야하는건가?\n",
    "    min_node = None\n",
    "    for i, tmp in arange(result):\n",
    "        if i not in check_nodes\n"
   ]
  },
  {
   "cell_type": "code",
   "execution_count": null,
   "id": "33abcd8e",
   "metadata": {},
   "outputs": [],
   "source": [
    "# 우선 순위 큐 (heap) 자료구조로 최단 거리를 관리\n",
    "\n",
    "import heapq\n",
    "from collections import defaultdict, deque\n",
    "from turtle import distance\n",
    "\n",
    "INF = 1e10\n",
    "\n",
    "def solution(start:int, numNodes:int, edges:list) -> list:\n",
    "    # 1. 그래프 초기화\n",
    "    graph = defaultdict(list)\n",
    "    for start_node, end_node, weight in edges:\n",
    "        graph[start_node].append((end_node, weight))\n",
    "\n",
    "    # 2. 최단경로 길이 및 방문 기록 초기화\n",
    "    distances = [INF] * numNodes\n",
    "    visited = [False] * numNodes\n",
    "    distances[start] = 0\n",
    "\n",
    "    # 3. 우선순위 큐\n",
    "    priority_queue = [(0, start)] # (거리, 노드)\n",
    "    \n",
    "    while priority_queue:\n",
    "        # 4. 현재 노드 찾기\n",
    "        current_distance, current_node = heapq.heappop(priority_queue)\n",
    "\n",
    "        # 5. 이미 방문한 노드는 무시\n",
    "        if visited[current_node]:\n",
    "            continue\n",
    "\n",
    "        # 6. 현재 노드 방문 처리\n",
    "        visited[current_node] = True\n",
    "\n",
    "        # 7. 인접 노드에 대한 거리 업데이트\n",
    "        for adj_node, weight in graph[current_node]:\n",
    "            new_distance = distances[current_node] + weight\n",
    "            \n",
    "            if new_distance < distances[adj_node]:\n",
    "                distances[adj_node] = new_distance\n",
    "                heapq.heappush(priority_queue, (new_distance, adj_node))\n",
    "\n",
    "    return distances"
   ]
  },
  {
   "cell_type": "code",
   "execution_count": 113,
   "id": "131ccb57",
   "metadata": {},
   "outputs": [
    {
     "name": "stdout",
     "output_type": "stream",
     "text": [
      "[0, 4, 3]\n",
      "[0, 1, 6, 7]\n"
     ]
    }
   ],
   "source": [
    "solution_1 = solution(start=0, numNodes=3, edges=[[0, 1, 9], [0, 2, 3], [1, 0, 5], [2, 1, 1]])\n",
    "print(solution_1)\n",
    "assert solution_1 == [0, 4, 3]\n",
    "\n",
    "solution_2 = solution(start=0, numNodes=4, edges=[[0, 1, 1], [1, 2, 5], [2, 3, 1]])\n",
    "print(solution_2)\n",
    "assert solution_2 == [0, 1, 6, 7]"
   ]
  },
  {
   "cell_type": "markdown",
   "id": "38d28116",
   "metadata": {},
   "source": [
    "시간복잡도 :   \n",
    "- 인접 리스트 생성 : O(E)\n",
    "- 최소 비용 찾는 부분 : O(VlogV)\n",
    "\n",
    "최종 : O(E + VlogV)"
   ]
  },
  {
   "cell_type": "markdown",
   "id": "74433a5a",
   "metadata": {},
   "source": [
    "# 벨만-포드 알고리즘"
   ]
  },
  {
   "cell_type": "markdown",
   "id": "40b5adad",
   "metadata": {},
   "source": [
    "음의 가중치가 있을 때 최소거리 구하는 방법"
   ]
  },
  {
   "cell_type": "code",
   "execution_count": 118,
   "id": "6bf17178",
   "metadata": {},
   "outputs": [],
   "source": [
    "from collections import defaultdict\n",
    "import dis\n",
    "INF = 1e15\n",
    "\n",
    "def solution(num_vertices:int, edges:list, source: int) -> list | int:\n",
    "    # 1. adj list\n",
    "    adj_list = defaultdict(list)\n",
    "    for start_node, end_node, weight in edges:\n",
    "        adj_list[start_node].append((end_node, weight))\n",
    "\n",
    "    # 2. distasnce 초기화\n",
    "    distance = [INF] * num_vertices\n",
    "    distance[source] = 0\n",
    "\n",
    "    # 3. 정점의 개수 -1만큼 최소 비용을 갱신\n",
    "    for _ in range(num_vertices - 1):\n",
    "        for u in range(num_vertices):\n",
    "            for v, weight in adj_list[u]:\n",
    "                if distance[u] + weight < distance[v]:\n",
    "                    distance[v] = distance[u] + weight\n",
    "\n",
    "    # 4. 음의 순환이 있는지 확인\n",
    "    for u in range(num_vertices):\n",
    "        for v, weight in adj_list[u]:\n",
    "            if distance[u] + weight < distance[v]:\n",
    "                return [-1]\n",
    "\n",
    "    return distance"
   ]
  },
  {
   "cell_type": "code",
   "execution_count": 119,
   "id": "9026cac4",
   "metadata": {},
   "outputs": [
    {
     "name": "stdout",
     "output_type": "stream",
     "text": [
      "[0, -2, -4, 3, -6]\n",
      "[-1]\n"
     ]
    }
   ],
   "source": [
    "solution_1 = solution(num_vertices=5, edges=[[0, 1, 4], [0, 2, 3], [0, 4, -6], [1, 3, 5], [2, 1, 2], [3, 0, 7], [3, 2, 4], [4, 2, 2]], source=0)\n",
    "print(solution_1)\n",
    "assert solution_1 == [0, -2, -4, 3, -6]\n",
    "\n",
    "solution_2 = solution(num_vertices=4, edges=[[0, 1, 5], [0, 2, -1], [1, 2, 2], [2, 3, -2], [3, 0, 2], [3, 1, 6]], source=0)\n",
    "print(solution_2)\n",
    "assert solution_2 == [-1] # 음의 순환이 있을 때"
   ]
  },
  {
   "cell_type": "code",
   "execution_count": null,
   "id": "71394846",
   "metadata": {},
   "outputs": [],
   "source": []
  }
 ],
 "metadata": {
  "kernelspec": {
   "display_name": "base",
   "language": "python",
   "name": "python3"
  },
  "language_info": {
   "codemirror_mode": {
    "name": "ipython",
    "version": 3
   },
   "file_extension": ".py",
   "mimetype": "text/x-python",
   "name": "python",
   "nbconvert_exporter": "python",
   "pygments_lexer": "ipython3",
   "version": "3.12.2"
  }
 },
 "nbformat": 4,
 "nbformat_minor": 5
}
