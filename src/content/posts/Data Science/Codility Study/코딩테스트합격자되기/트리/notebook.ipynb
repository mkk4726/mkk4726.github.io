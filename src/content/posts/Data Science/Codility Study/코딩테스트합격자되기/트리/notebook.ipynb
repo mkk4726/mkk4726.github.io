{
 "cells": [
  {
   "cell_type": "markdown",
   "id": "7bb4ac54",
   "metadata": {},
   "source": [
    "---\n",
    "title: \"트리 파이썬 구현\"\n",
    "date: \"2025-09-18\"\n",
    "category: \"Codility Study\"\n",
    "tags: [\"코딩 테스트 합격자 되기\", \"Codility Study\", \"트리\"]\n",
    "excerpt: \"트리 탐색 파이썬 구현\"\n",
    "---"
   ]
  },
  {
   "cell_type": "code",
   "execution_count": 1,
   "id": "051b5249",
   "metadata": {},
   "outputs": [
    {
     "name": "stdout",
     "output_type": "stream",
     "text": [
      "[1, 2, 3, 4, 5]\n",
      "2\n",
      "3\n"
     ]
    }
   ],
   "source": [
    "class ArrayBinaryTree:\n",
    "    def __init__(self, capacity):\n",
    "        self.tree = [None] * capacity\n",
    "        self.size = 0\n",
    "\n",
    "    def insert(self, value):\n",
    "        if self.size >= len(self.tree):\n",
    "            raise Exception(\"Tree is full\")\n",
    "        self.tree[self.size] = value\n",
    "        self.size += 1\n",
    "\n",
    "    def get_left(self, index):\n",
    "        left = 2 * index + 1\n",
    "        if left < self.size:\n",
    "            return self.tree[left]\n",
    "        return None\n",
    "\n",
    "    def get_right(self, index):\n",
    "        right = 2 * index + 2\n",
    "        if right < self.size:\n",
    "            return self.tree[right]\n",
    "        return None\n",
    "\n",
    "    def display(self):\n",
    "        print(self.tree[:self.size])\n",
    "\n",
    "\n",
    "# 사용 예시\n",
    "bt = ArrayBinaryTree(10)\n",
    "bt.insert(1)\n",
    "bt.insert(2)\n",
    "bt.insert(3)\n",
    "bt.insert(4)\n",
    "bt.insert(5)\n",
    "\n",
    "bt.display()          # [1, 2, 3, 4, 5]\n",
    "print(bt.get_left(0)) # 2\n",
    "print(bt.get_right(0))# 3"
   ]
  },
  {
   "cell_type": "code",
   "execution_count": 3,
   "id": "6c641f32",
   "metadata": {},
   "outputs": [
    {
     "name": "stdout",
     "output_type": "stream",
     "text": [
      "2 3 4 5 7 "
     ]
    }
   ],
   "source": [
    "class Node:\n",
    "    def __init__(self, value):\n",
    "        self.value = value\n",
    "        self.left = None\n",
    "        self.right = None\n",
    "\n",
    "\n",
    "class PointerBinaryTree:\n",
    "    def __init__(self):\n",
    "        self.root = None\n",
    "\n",
    "    def insert(self, value):\n",
    "        if not self.root:\n",
    "            self.root = Node(value)\n",
    "        else:\n",
    "            self._insert(self.root, value)\n",
    "\n",
    "    def _insert(self, current, value):\n",
    "        if value < current.value:\n",
    "            if current.left is None:\n",
    "                current.left = Node(value)\n",
    "            else:\n",
    "                self._insert(current.left, value)\n",
    "        else:\n",
    "            if current.right is None:\n",
    "                current.right = Node(value)\n",
    "            else:\n",
    "                self._insert(current.right, value)\n",
    "\n",
    "    def inorder(self, node):\n",
    "        if node:\n",
    "            self.inorder(node.left)\n",
    "            print(node.value, end=\" \")\n",
    "            self.inorder(node.right)\n",
    "\n",
    "\n",
    "# 사용 예시\n",
    "bt = PointerBinaryTree()\n",
    "bt.insert(5)\n",
    "bt.insert(3)\n",
    "bt.insert(7)\n",
    "bt.insert(2)\n",
    "bt.insert(4)\n",
    "\n",
    "bt.inorder(bt.root)  # 2 3 4 5 7"
   ]
  },
  {
   "cell_type": "markdown",
   "id": "8bfa4f7c",
   "metadata": {},
   "source": [
    "# 문제 26 : 트리 순회\n",
    "\n",
    "> 전위 탐색, 중위 탐색, 후위 탐색 구현하는 문제"
   ]
  },
  {
   "cell_type": "code",
   "execution_count": 4,
   "id": "cb95e446",
   "metadata": {},
   "outputs": [],
   "source": [
    "# 입력되는 배열 트리\n",
    "tree = [1, 2, 3, 4, 5, 6, 7]\n",
    "\n",
    "# 트리 구조\n",
    "#       1\n",
    "#      / \\\n",
    "#     2   3\n",
    "#    / \\ / \\"
   ]
  },
  {
   "cell_type": "code",
   "execution_count": 39,
   "id": "23f98134",
   "metadata": {},
   "outputs": [
    {
     "name": "stdout",
     "output_type": "stream",
     "text": [
      "node : 0\n",
      "node : 1\n",
      "node : 3\n",
      "node : 1\n",
      "node : 4\n",
      "node : 1\n",
      "node : 0\n",
      "node : 2\n",
      "node : 5\n",
      "node : 2\n",
      "node : 6\n",
      "node : 2\n",
      "node : 0\n",
      "[1, 2, 4, 5, 3, 6, 7]\n",
      "[True, True, True, True, True, True, True]\n"
     ]
    }
   ],
   "source": [
    "# 전위 순회 : 부모 -> 왼쪽 -> 오른쪽\n",
    "\n",
    "visited = [False] * len(tree)\n",
    "result = []\n",
    "\n",
    "# 재귀로 짜보기\n",
    "# 방문과 탐색을 구분해야 함.\n",
    "\n",
    "def preorder(node):\n",
    "    print('node :', node)\n",
    "    if visited[node] == False: # 방문하지 않았던 곳이라면 탐색하기\n",
    "        visited[node] = True\n",
    "        result.append(tree[node])\n",
    "        \n",
    "    # 왼쪽 방문하기\n",
    "    if node * 2 + 1 < len(tree) and visited[node * 2 + 1] == False:\n",
    "        preorder(node * 2 + 1)\n",
    "    # 왼쪽 방문했으면 오른쪽 방문하기\n",
    "    elif node * 2 + 2 < len(tree) and visited[node * 2 + 2] == False:\n",
    "        preorder(node * 2 + 2)\n",
    "    # 왼쪽 오른쪽 모두 방문했으면 위로 가기\n",
    "    elif (node - 1) // 2 >= 0:\n",
    "        preorder((node - 1)// 2)\n",
    "    else:\n",
    "        return \n",
    "    \n",
    "preorder(0)\n",
    "print(result)\n",
    "print(visited)"
   ]
  },
  {
   "cell_type": "code",
   "execution_count": 55,
   "id": "f5077c39",
   "metadata": {},
   "outputs": [
    {
     "name": "stdout",
     "output_type": "stream",
     "text": [
      "node : 0\n",
      "node : 1\n",
      "node : 3\n",
      "본인 방문 :  3\n",
      "node : 3\n",
      "node : 1\n",
      "본인 방문 :  1\n",
      "node : 1\n",
      "node : 4\n",
      "본인 방문 :  4\n",
      "node : 4\n",
      "node : 1\n",
      "node : 0\n",
      "본인 방문 :  0\n",
      "node : 0\n",
      "node : 2\n",
      "node : 5\n",
      "본인 방문 :  5\n",
      "node : 5\n",
      "node : 2\n",
      "본인 방문 :  2\n",
      "node : 2\n",
      "node : 6\n",
      "본인 방문 :  6\n",
      "node : 6\n",
      "node : 2\n",
      "node : 0\n",
      "[4, 2, 5, 1, 6, 3, 7]\n",
      "[True, True, True, True, True, True, True]\n"
     ]
    }
   ],
   "source": [
    "# 중위 순회 : 왼쪽 -> 부모 > 오른쪽\n",
    "\n",
    "visited = [False] * len(tree)\n",
    "result = []\n",
    "\n",
    "def inorder(node):\n",
    "    print('node :', node)\n",
    "        \n",
    "    # 왼쪽 방문하기\n",
    "    if node * 2 + 1 < len(tree) and visited[node * 2 + 1] == False:\n",
    "        inorder(node * 2 + 1)\n",
    "    # 왼쪽 없거나 갔던 거면 본인 방문하기\n",
    "    elif node < len(tree) and visited[node] == False: \n",
    "        print(\"본인 방문 : \", node)\n",
    "        visited[node] = True\n",
    "        result.append(tree[node])\n",
    "        inorder(node)\n",
    "    # 왼쪽 방문, 본인 방문했으면, 오른쪽 방문하기\n",
    "    elif node * 2 + 2 < len(tree) and visited[node * 2 + 2] == False:\n",
    "        inorder(node * 2 + 2)\n",
    "    # 왼쪽 오른쪽 모두 방문했으면 위로 가기\n",
    "    elif (node - 1) // 2 >= 0:\n",
    "        inorder((node - 1)// 2)\n",
    "    else:\n",
    "        return \n",
    "    \n",
    "inorder(0)\n",
    "print(result)\n",
    "print(visited)"
   ]
  },
  {
   "cell_type": "code",
   "execution_count": null,
   "id": "52663a08",
   "metadata": {},
   "outputs": [
    {
     "name": "stdout",
     "output_type": "stream",
     "text": [
      "0\n",
      "1\n",
      "3\n",
      "본인 방문 :  3\n",
      "3\n",
      "1\n",
      "4\n",
      "본인 방문 :  4\n",
      "4\n",
      "1\n",
      "본인 방문 :  1\n",
      "1\n",
      "0\n",
      "2\n",
      "5\n",
      "본인 방문 :  5\n",
      "5\n",
      "2\n",
      "6\n",
      "본인 방문 :  6\n",
      "6\n",
      "2\n",
      "본인 방문 :  2\n",
      "2\n",
      "0\n",
      "본인 방문 :  0\n",
      "0\n",
      "[4, 5, 2, 6, 7, 3, 1]\n",
      "[True, True, True, True, True, True, True]\n"
     ]
    }
   ],
   "source": [
    "# 후위순회 : 왼쪽 -> 오른쪽 -> 본인\n",
    "\n",
    "visited = [False] * len(tree)\n",
    "result = []\n",
    "\n",
    "def postorder(node):\n",
    "    print(node)\n",
    "\n",
    "    # 왼쪽 방문하기\n",
    "    if node * 2 + 1 < len(tree) and visited[node * 2 + 1] == False:\n",
    "        postorder(node * 2 + 1)\n",
    "    # 오른쪽 방문하기\n",
    "    elif node * 2 + 2 < len(tree) and visited[node * 2 + 2] == False:\n",
    "        postorder(node * 2 + 2)\n",
    "    # 본인 방문하기\n",
    "    elif node < len(tree) and visited[node] == False: \n",
    "        print(\"본인 방문 : \", node)\n",
    "        visited[node] = True\n",
    "        result.append(tree[node])\n",
    "        postorder(node)\n",
    "    # 왼쪽 오른쪽 모두 방문했으면 위로 가기\n",
    "    elif (node - 1) // 2 >= 0:\n",
    "        postorder((node - 1)// 2)\n",
    "    else:\n",
    "        return \n",
    "    \n",
    "postorder(0)\n",
    "print(result)\n",
    "print(visited)"
   ]
  },
  {
   "cell_type": "code",
   "execution_count": 66,
   "id": "67b0c64a",
   "metadata": {},
   "outputs": [
    {
     "name": "stdout",
     "output_type": "stream",
     "text": [
      "1 2 4 5 3 6 7 \n",
      "4 2 5 1 6 3 7 \n",
      "4 5 2 6 7 3 1 \n"
     ]
    }
   ],
   "source": [
    "# 책 풀이\n",
    "\n",
    "# 입력되는 배열 트리\n",
    "nodes = [1, 2, 3, 4, 5, 6, 7]\n",
    "\n",
    "def preorder(nodes:list, current_node:int):\n",
    "    if current_node < len(nodes):\n",
    "        ret: str = str(nodes[current_node]) + \" \" # 부모\n",
    "        ret += preorder(nodes, current_node*2 + 1) # 왼쪽\n",
    "        ret += preorder(nodes, current_node*2 + 2) # 오른쪽\n",
    "        return ret\n",
    "    else:\n",
    "        return \"\"\n",
    "    \n",
    "def inorder(nodes:list, cur_node:int):\n",
    "    if cur_node < len(nodes):\n",
    "        ret: str = inorder(nodes, cur_node*2 + 1) # 왼쪽\n",
    "        ret += str(nodes[cur_node]) + \" \" # 부모\n",
    "        ret += inorder(nodes, cur_node*2 + 2) # 오른쪽\n",
    "        \n",
    "        return ret\n",
    "    else:\n",
    "        return \"\"\n",
    "\n",
    "def postorder(nodes:list, current_node:int):\n",
    "    if current_node < len(nodes):\n",
    "        ret :str = postorder(nodes, current_node * 2 + 1) # 왼쪽\n",
    "        ret += postorder(nodes, current_node * 2 + 2) # 오른쪽\n",
    "        ret += str(nodes[current_node]) + \" \"\n",
    "        \n",
    "        return ret\n",
    "    else:\n",
    "        return \"\"\n",
    "\n",
    "print(preorder(nodes, 0))\n",
    "print(inorder(nodes, 0))\n",
    "print(postorder(nodes, 0))"
   ]
  },
  {
   "cell_type": "markdown",
   "id": "ec65c911",
   "metadata": {},
   "source": [
    "# 문제 27 : 이진 탐색 트리 구현"
   ]
  },
  {
   "cell_type": "code",
   "execution_count": 2,
   "id": "1dc82d32",
   "metadata": {},
   "outputs": [],
   "source": [
    "class Node:\n",
    "    def __init__(self, value):\n",
    "        self.value = value\n",
    "\n",
    "        self.left = None # point\n",
    "        self.right = None # point"
   ]
  },
  {
   "cell_type": "code",
   "execution_count": 32,
   "id": "88ea6e5e",
   "metadata": {},
   "outputs": [],
   "source": [
    "class BTS:\n",
    "    def __init__(self):\n",
    "        self.root_node = None\n",
    "        \n",
    "    def insert(self, tree: list):\n",
    "        for value in tree:\n",
    "            if self.root_node is None:\n",
    "                self.root_node = Node(value)\n",
    "            else: # 비교하면서 넣기\n",
    "                compare_node = self.root_node\n",
    "                while compare_node is not None:\n",
    "                    if compare_node.value > value:\n",
    "                        if compare_node.left is None:\n",
    "                            compare_node.left = Node(value)\n",
    "                            break\n",
    "                        else: \n",
    "                            compare_node = compare_node.left\n",
    "                    else:\n",
    "                        if compare_node.right is None:\n",
    "                            compare_node.right = Node(value)\n",
    "                            break\n",
    "                        else:\n",
    "                            compare_node = compare_node.right\n",
    "                            \n",
    "    def search(self, value):\n",
    "        if self.root_node is None:\n",
    "            raise \n",
    "        \n",
    "        compare_node = self.root_node\n",
    "        while compare_node is not None:\n",
    "            if compare_node.value == value:\n",
    "                return True\n",
    "            elif compare_node.value > value:\n",
    "                compare_node = compare_node.left\n",
    "            else:\n",
    "                compare_node = compare_node.right\n",
    "        \n",
    "        return False"
   ]
  },
  {
   "cell_type": "code",
   "execution_count": 33,
   "id": "90b0a569",
   "metadata": {},
   "outputs": [
    {
     "name": "stdout",
     "output_type": "stream",
     "text": [
      "root_node:  5\n",
      "root_node.left:  3\n",
      "root_node.left.left:  2\n",
      "root_node.left.right:  4\n",
      "root_node.right:  8\n",
      "root_node.right.left:  7\n",
      "root_node.right.right:  10\n",
      "1\n",
      "True\n",
      "2\n",
      "True\n",
      "5\n",
      "True\n",
      "6\n",
      "False\n"
     ]
    }
   ],
   "source": [
    "tree = [5, 3, 8, 4, 2, 1, 7, 10]\n",
    "\n",
    "#         5\n",
    "#     3       8\n",
    "#   2   4   7  10 \n",
    "# 1\n",
    "bts = BTS()\n",
    "bts.insert(tree)\n",
    "\n",
    "print(\"root_node: \", bts.root_node.value)\n",
    "print(\"root_node.left: \", bts.root_node.left.value)\n",
    "print(\"root_node.left.left: \", bts.root_node.left.left.value)\n",
    "print(\"root_node.left.right: \", bts.root_node.left.right.value)\n",
    "\n",
    "print(\"root_node.right: \", bts.root_node.right.value)\n",
    "print(\"root_node.right.left: \", bts.root_node.right.left.value)\n",
    "print(\"root_node.right.right: \", bts.root_node.right.right.value)\n",
    "\n",
    "\n",
    "search_list = [1, 2, 5, 6]\n",
    "for search in search_list:\n",
    "    print(search)\n",
    "    print(bts.search(search))\n"
   ]
  },
  {
   "cell_type": "markdown",
   "id": "97aa9661",
   "metadata": {},
   "source": [
    "# 문제 28 : 예상 대진표"
   ]
  },
  {
   "cell_type": "code",
   "execution_count": 34,
   "id": "9dd1edca",
   "metadata": {},
   "outputs": [],
   "source": [
    "N, A, B, answer = [8, 4, 7, 3]"
   ]
  },
  {
   "cell_type": "code",
   "execution_count": 44,
   "id": "e0269910",
   "metadata": {},
   "outputs": [],
   "source": [
    "def search(N:int, A:int, B:int):\n",
    "    answer = 0\n",
    "    while True:\n",
    "        A = A // 2 + A % 2\n",
    "        B = B // 2 + B % 2\n",
    "        answer += 1\n",
    "        \n",
    "        if A == B:\n",
    "            return answer"
   ]
  },
  {
   "cell_type": "code",
   "execution_count": null,
   "id": "d83107a7",
   "metadata": {},
   "outputs": [
    {
     "data": {
      "text/plain": [
       "3"
      ]
     },
     "execution_count": 49,
     "metadata": {},
     "output_type": "execute_result"
    }
   ],
   "source": []
  }
 ],
 "metadata": {
  "kernelspec": {
   "display_name": "chatbot_venv",
   "language": "python",
   "name": "python3"
  },
  "language_info": {
   "codemirror_mode": {
    "name": "ipython",
    "version": 3
   },
   "file_extension": ".py",
   "mimetype": "text/x-python",
   "name": "python",
   "nbconvert_exporter": "python",
   "pygments_lexer": "ipython3",
   "version": "3.10.8"
  }
 },
 "nbformat": 4,
 "nbformat_minor": 5
}
