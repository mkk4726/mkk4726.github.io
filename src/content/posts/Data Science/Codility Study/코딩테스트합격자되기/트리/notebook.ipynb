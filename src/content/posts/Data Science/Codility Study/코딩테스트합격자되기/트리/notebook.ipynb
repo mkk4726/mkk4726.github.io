{
 "cells": [
  {
   "cell_type": "markdown",
   "id": "7bb4ac54",
   "metadata": {},
   "source": [
    "---\n",
    "title: \"트리 파이썬 구현\"\n",
    "date: \"2025-09-18\"\n",
    "category: \"Codility Study\"\n",
    "tags: [\"코딩 테스트 합격자 되기\", \"Codility Study\", \"트리\"]\n",
    "excerpt: \"트리 탐색 파이썬 구현\"\n",
    "---"
   ]
  },
  {
   "cell_type": "markdown",
   "id": "8bfa4f7c",
   "metadata": {},
   "source": [
    "# 문제 26 : 트리 순회\n",
    "\n",
    "> 전위 탐색, 중위 탐색, 후위 탐색 구현하는 문제   \n",
    "\n",
    "> 책에서 구현한게 훨~~씬 간단하고, 직관에 가깝다. 이해하기"
   ]
  },
  {
   "cell_type": "code",
   "execution_count": 4,
   "id": "cb95e446",
   "metadata": {},
   "outputs": [],
   "source": [
    "# 입력되는 배열 트리\n",
    "tree = [1, 2, 3, 4, 5, 6, 7]\n",
    "\n",
    "# 트리 구조\n",
    "#       1\n",
    "#      / \\\n",
    "#     2   3\n",
    "#    / \\ / \\"
   ]
  },
  {
   "cell_type": "code",
   "execution_count": 39,
   "id": "23f98134",
   "metadata": {},
   "outputs": [
    {
     "name": "stdout",
     "output_type": "stream",
     "text": [
      "node : 0\n",
      "node : 1\n",
      "node : 3\n",
      "node : 1\n",
      "node : 4\n",
      "node : 1\n",
      "node : 0\n",
      "node : 2\n",
      "node : 5\n",
      "node : 2\n",
      "node : 6\n",
      "node : 2\n",
      "node : 0\n",
      "[1, 2, 4, 5, 3, 6, 7]\n",
      "[True, True, True, True, True, True, True]\n"
     ]
    }
   ],
   "source": [
    "# 전위 순회 : 부모 -> 왼쪽 -> 오른쪽\n",
    "\n",
    "visited = [False] * len(tree)\n",
    "result = []\n",
    "\n",
    "# 재귀로 짜보기\n",
    "# 방문과 탐색을 구분해야 함.\n",
    "\n",
    "def preorder(node):\n",
    "    print('node :', node)\n",
    "    if visited[node] == False: # 방문하지 않았던 곳이라면 탐색하기\n",
    "        visited[node] = True\n",
    "        result.append(tree[node])\n",
    "        \n",
    "    # 왼쪽 방문하기\n",
    "    if node * 2 + 1 < len(tree) and visited[node * 2 + 1] == False:\n",
    "        preorder(node * 2 + 1)\n",
    "    # 왼쪽 방문했으면 오른쪽 방문하기\n",
    "    elif node * 2 + 2 < len(tree) and visited[node * 2 + 2] == False:\n",
    "        preorder(node * 2 + 2)\n",
    "    # 왼쪽 오른쪽 모두 방문했으면 위로 가기\n",
    "    elif (node - 1) // 2 >= 0:\n",
    "        preorder((node - 1)// 2)\n",
    "    else:\n",
    "        return \n",
    "    \n",
    "preorder(0)\n",
    "print(result)\n",
    "print(visited)"
   ]
  },
  {
   "cell_type": "code",
   "execution_count": 55,
   "id": "f5077c39",
   "metadata": {},
   "outputs": [
    {
     "name": "stdout",
     "output_type": "stream",
     "text": [
      "node : 0\n",
      "node : 1\n",
      "node : 3\n",
      "본인 방문 :  3\n",
      "node : 3\n",
      "node : 1\n",
      "본인 방문 :  1\n",
      "node : 1\n",
      "node : 4\n",
      "본인 방문 :  4\n",
      "node : 4\n",
      "node : 1\n",
      "node : 0\n",
      "본인 방문 :  0\n",
      "node : 0\n",
      "node : 2\n",
      "node : 5\n",
      "본인 방문 :  5\n",
      "node : 5\n",
      "node : 2\n",
      "본인 방문 :  2\n",
      "node : 2\n",
      "node : 6\n",
      "본인 방문 :  6\n",
      "node : 6\n",
      "node : 2\n",
      "node : 0\n",
      "[4, 2, 5, 1, 6, 3, 7]\n",
      "[True, True, True, True, True, True, True]\n"
     ]
    }
   ],
   "source": [
    "# 중위 순회 : 왼쪽 -> 부모 > 오른쪽\n",
    "\n",
    "visited = [False] * len(tree)\n",
    "result = []\n",
    "\n",
    "def inorder(node):\n",
    "    print('node :', node)\n",
    "        \n",
    "    # 왼쪽 방문하기\n",
    "    if node * 2 + 1 < len(tree) and visited[node * 2 + 1] == False:\n",
    "        inorder(node * 2 + 1)\n",
    "    # 왼쪽 없거나 갔던 거면 본인 방문하기\n",
    "    elif node < len(tree) and visited[node] == False: \n",
    "        print(\"본인 방문 : \", node)\n",
    "        visited[node] = True\n",
    "        result.append(tree[node])\n",
    "        inorder(node)\n",
    "    # 왼쪽 방문, 본인 방문했으면, 오른쪽 방문하기\n",
    "    elif node * 2 + 2 < len(tree) and visited[node * 2 + 2] == False:\n",
    "        inorder(node * 2 + 2)\n",
    "    # 왼쪽 오른쪽 모두 방문했으면 위로 가기\n",
    "    elif (node - 1) // 2 >= 0:\n",
    "        inorder((node - 1)// 2)\n",
    "    else:\n",
    "        return \n",
    "    \n",
    "inorder(0)\n",
    "print(result)\n",
    "print(visited)"
   ]
  },
  {
   "cell_type": "code",
   "execution_count": null,
   "id": "52663a08",
   "metadata": {},
   "outputs": [
    {
     "name": "stdout",
     "output_type": "stream",
     "text": [
      "0\n",
      "1\n",
      "3\n",
      "본인 방문 :  3\n",
      "3\n",
      "1\n",
      "4\n",
      "본인 방문 :  4\n",
      "4\n",
      "1\n",
      "본인 방문 :  1\n",
      "1\n",
      "0\n",
      "2\n",
      "5\n",
      "본인 방문 :  5\n",
      "5\n",
      "2\n",
      "6\n",
      "본인 방문 :  6\n",
      "6\n",
      "2\n",
      "본인 방문 :  2\n",
      "2\n",
      "0\n",
      "본인 방문 :  0\n",
      "0\n",
      "[4, 5, 2, 6, 7, 3, 1]\n",
      "[True, True, True, True, True, True, True]\n"
     ]
    }
   ],
   "source": [
    "# 후위순회 : 왼쪽 -> 오른쪽 -> 본인\n",
    "\n",
    "visited = [False] * len(tree)\n",
    "result = []\n",
    "\n",
    "def postorder(node):\n",
    "    print(node)\n",
    "\n",
    "    # 왼쪽 방문하기\n",
    "    if node * 2 + 1 < len(tree) and visited[node * 2 + 1] == False:\n",
    "        postorder(node * 2 + 1)\n",
    "    # 오른쪽 방문하기\n",
    "    elif node * 2 + 2 < len(tree) and visited[node * 2 + 2] == False:\n",
    "        postorder(node * 2 + 2)\n",
    "    # 본인 방문하기\n",
    "    elif node < len(tree) and visited[node] == False: \n",
    "        print(\"본인 방문 : \", node)\n",
    "        visited[node] = True\n",
    "        result.append(tree[node])\n",
    "        postorder(node)\n",
    "    # 왼쪽 오른쪽 모두 방문했으면 위로 가기\n",
    "    elif (node - 1) // 2 >= 0:\n",
    "        postorder((node - 1)// 2)\n",
    "    else:\n",
    "        return \n",
    "    \n",
    "postorder(0)\n",
    "print(result)\n",
    "print(visited)"
   ]
  },
  {
   "cell_type": "code",
   "execution_count": 66,
   "id": "67b0c64a",
   "metadata": {},
   "outputs": [
    {
     "name": "stdout",
     "output_type": "stream",
     "text": [
      "1 2 4 5 3 6 7 \n",
      "4 2 5 1 6 3 7 \n",
      "4 5 2 6 7 3 1 \n"
     ]
    }
   ],
   "source": [
    "# 책 풀이\n",
    "\n",
    "# 입력되는 배열 트리\n",
    "nodes = [1, 2, 3, 4, 5, 6, 7]\n",
    "\n",
    "def preorder(nodes:list, current_node:int):\n",
    "    if current_node < len(nodes):\n",
    "        ret: str = str(nodes[current_node]) + \" \" # 부모\n",
    "        ret += preorder(nodes, current_node*2 + 1) # 왼쪽\n",
    "        ret += preorder(nodes, current_node*2 + 2) # 오른쪽\n",
    "        return ret\n",
    "    else:\n",
    "        return \"\"\n",
    "    \n",
    "def inorder(nodes:list, cur_node:int):\n",
    "    if cur_node < len(nodes):\n",
    "        ret: str = inorder(nodes, cur_node*2 + 1) # 왼쪽\n",
    "        ret += str(nodes[cur_node]) + \" \" # 부모\n",
    "        ret += inorder(nodes, cur_node*2 + 2) # 오른쪽\n",
    "        \n",
    "        return ret\n",
    "    else:\n",
    "        return \"\"\n",
    "\n",
    "def postorder(nodes:list, current_node:int):\n",
    "    if current_node < len(nodes):\n",
    "        ret :str = postorder(nodes, current_node * 2 + 1) # 왼쪽\n",
    "        ret += postorder(nodes, current_node * 2 + 2) # 오른쪽\n",
    "        ret += str(nodes[current_node]) + \" \"\n",
    "        \n",
    "        return ret\n",
    "    else:\n",
    "        return \"\"\n",
    "\n",
    "print(preorder(nodes, 0))\n",
    "print(inorder(nodes, 0))\n",
    "print(postorder(nodes, 0))"
   ]
  },
  {
   "cell_type": "markdown",
   "id": "ec65c911",
   "metadata": {},
   "source": [
    "# 문제 27 : 이진 탐색 트리 구현"
   ]
  },
  {
   "cell_type": "code",
   "execution_count": 2,
   "id": "1dc82d32",
   "metadata": {},
   "outputs": [],
   "source": [
    "class Node:\n",
    "    def __init__(self, value):\n",
    "        self.value = value\n",
    "\n",
    "        self.left = None # point\n",
    "        self.right = None # point"
   ]
  },
  {
   "cell_type": "code",
   "execution_count": 32,
   "id": "88ea6e5e",
   "metadata": {},
   "outputs": [],
   "source": [
    "class BTS:\n",
    "    def __init__(self):\n",
    "        self.root_node = None\n",
    "        \n",
    "    def insert(self, tree: list):\n",
    "        for value in tree:\n",
    "            if self.root_node is None:\n",
    "                self.root_node = Node(value)\n",
    "            else: # 비교하면서 넣기\n",
    "                compare_node = self.root_node\n",
    "                while compare_node is not None:\n",
    "                    if compare_node.value > value:\n",
    "                        if compare_node.left is None:\n",
    "                            compare_node.left = Node(value)\n",
    "                            break\n",
    "                        else: \n",
    "                            compare_node = compare_node.left\n",
    "                    else:\n",
    "                        if compare_node.right is None:\n",
    "                            compare_node.right = Node(value)\n",
    "                            break\n",
    "                        else:\n",
    "                            compare_node = compare_node.right\n",
    "                            \n",
    "    def search(self, value):\n",
    "        if self.root_node is None:\n",
    "            raise \n",
    "        \n",
    "        compare_node = self.root_node\n",
    "        while compare_node is not None:\n",
    "            if compare_node.value == value:\n",
    "                return True\n",
    "            elif compare_node.value > value:\n",
    "                compare_node = compare_node.left\n",
    "            else:\n",
    "                compare_node = compare_node.right\n",
    "        \n",
    "        return False"
   ]
  },
  {
   "cell_type": "code",
   "execution_count": 33,
   "id": "90b0a569",
   "metadata": {},
   "outputs": [
    {
     "name": "stdout",
     "output_type": "stream",
     "text": [
      "root_node:  5\n",
      "root_node.left:  3\n",
      "root_node.left.left:  2\n",
      "root_node.left.right:  4\n",
      "root_node.right:  8\n",
      "root_node.right.left:  7\n",
      "root_node.right.right:  10\n",
      "1\n",
      "True\n",
      "2\n",
      "True\n",
      "5\n",
      "True\n",
      "6\n",
      "False\n"
     ]
    }
   ],
   "source": [
    "tree = [5, 3, 8, 4, 2, 1, 7, 10]\n",
    "\n",
    "#         5\n",
    "#     3       8\n",
    "#   2   4   7  10 \n",
    "# 1\n",
    "bts = BTS()\n",
    "bts.insert(tree)\n",
    "\n",
    "print(\"root_node: \", bts.root_node.value)\n",
    "print(\"root_node.left: \", bts.root_node.left.value)\n",
    "print(\"root_node.left.left: \", bts.root_node.left.left.value)\n",
    "print(\"root_node.left.right: \", bts.root_node.left.right.value)\n",
    "\n",
    "print(\"root_node.right: \", bts.root_node.right.value)\n",
    "print(\"root_node.right.left: \", bts.root_node.right.left.value)\n",
    "print(\"root_node.right.right: \", bts.root_node.right.right.value)\n",
    "\n",
    "\n",
    "search_list = [1, 2, 5, 6]\n",
    "for search in search_list:\n",
    "    print(search)\n",
    "    print(bts.search(search))\n"
   ]
  },
  {
   "cell_type": "markdown",
   "id": "97aa9661",
   "metadata": {},
   "source": [
    "# 문제 28 : 예상 대진표\n",
    "\n",
    "> 문제를 이해하면 쉽게 풀 수 있는 문제"
   ]
  },
  {
   "cell_type": "code",
   "execution_count": 34,
   "id": "9dd1edca",
   "metadata": {},
   "outputs": [],
   "source": [
    "N, A, B, answer = [8, 4, 7, 3]"
   ]
  },
  {
   "cell_type": "code",
   "execution_count": 44,
   "id": "e0269910",
   "metadata": {},
   "outputs": [],
   "source": [
    "def search(N:int, A:int, B:int):\n",
    "    answer = 0\n",
    "    while True:\n",
    "        A = A // 2 + A % 2\n",
    "        B = B // 2 + B % 2\n",
    "        answer += 1\n",
    "        \n",
    "        if A == B:\n",
    "            return answer"
   ]
  },
  {
   "cell_type": "markdown",
   "id": "876d510d",
   "metadata": {},
   "source": [
    "# 문제 29 : 다단계 칫솔 판매\n",
    "\n",
    "> 문제 제대로 이해하기"
   ]
  },
  {
   "cell_type": "code",
   "execution_count": 112,
   "id": "6172311d",
   "metadata": {},
   "outputs": [],
   "source": [
    "enroll, referral, seller, amount = [[\"john\", \"mary\", \"edward\", \"sam\", \"emily\", \"jaimie\", \"tod\", \"young\"], \n",
    "                                    [\"-\", \"-\", \"mary\", \"edward\", \"mary\", \"mary\", \"jaimie\", \"edward\"], \n",
    "                                    [\"young\", \"john\", \"tod\", \"emily\", \"mary\"],\n",
    "                                    [12, 4, 2, 5, 10]]\n",
    "result = [360, 958, 108, 0, 450, 18, 180, 1080]"
   ]
  },
  {
   "cell_type": "code",
   "execution_count": 113,
   "id": "cca04a54",
   "metadata": {},
   "outputs": [],
   "source": [
    "def solution(enroll, referral, seller, amount):\n",
    "    amount = [a * 100 for a in amount]\n",
    "    \n",
    "    income_dict = dict(zip(seller, amount))\n",
    "\n",
    "    tree_dict = {}\n",
    "    result_dict = {}\n",
    "\n",
    "    for e, r in zip(enroll, referral):\n",
    "        if r == '-':\n",
    "            if 'center' not in tree_dict.keys():\n",
    "                tree_dict['center'] = [e]\n",
    "            else:\n",
    "                tree_dict['center'].append(e)\n",
    "        else:\n",
    "            if r not in tree_dict.keys():\n",
    "                tree_dict[r] = [e]\n",
    "            else:\n",
    "                tree_dict[r].append(e)\n",
    "\n",
    "    def get_income(e):\n",
    "        r_income = 0\n",
    "        for r in tree_dict.get(e, []):\n",
    "            tmp = int(get_income(r) * 0.1)\n",
    "            if tmp > 1:\n",
    "                r_income += tmp\n",
    "        \n",
    "        income = income_dict.get(e, 0) + r_income\n",
    "        result_dict[e] = income\n",
    "        return income\n",
    "\n",
    "    get_income('center')\n",
    "    \n",
    "    for e in enroll:\n",
    "        print(e, end=' ')\n",
    "        print(result_dict[e] - int(result_dict[e] * 0.1), end=' ')\n"
   ]
  },
  {
   "cell_type": "code",
   "execution_count": 115,
   "id": "b614a491",
   "metadata": {},
   "outputs": [
    {
     "name": "stdout",
     "output_type": "stream",
     "text": [
      "[360, 958, 108, 0, 450, 18, 180, 1080]\n",
      "john 360 mary 958 edward 108 sam 0 emily 450 jaimie 18 tod 180 young 1080 "
     ]
    }
   ],
   "source": [
    "print(result)\n",
    "solution(enroll, referral, seller, amount)"
   ]
  },
  {
   "cell_type": "code",
   "execution_count": 116,
   "id": "bf31d484",
   "metadata": {},
   "outputs": [
    {
     "name": "stdout",
     "output_type": "stream",
     "text": [
      "[0, 110, 378, 180, 270, 450, 0]\n",
      "john 0 mary 110 edward 378 sam 180 emily 270 jaimie 450 tod 0 young 0 "
     ]
    }
   ],
   "source": [
    "enroll, referral, seller, amount = [[\"john\", \"mary\", \"edward\", \"sam\", \"emily\", \"jaimie\", \"tod\", \"young\"], \n",
    "                                    [\"-\", \"-\", \"mary\", \"edward\", \"mary\", \"mary\", \"jaimie\", \"edward\"], \n",
    "                                    [\"sam\", \"emily\", \"jaimie\", \"edward\"],\n",
    "                                    [2, 3, 5, 4]]\n",
    "result = [0, 110, 378, 180, 270, 450, 0, ]\n",
    "print(result)\n",
    "solution(enroll, referral, seller, amount)"
   ]
  },
  {
   "cell_type": "markdown",
   "id": "9230149a",
   "metadata": {},
   "source": [
    "# 문제 30 : 미로 탈출\n",
    "\n",
    "> 최소거리 -> BFS, DFS, 다익스트라 등을 떠올려야 함   \n",
    "\n",
    "> 리스트 객체 생성할 때 *을 사용하면 같은 객체로 참조하도록 되어버림"
   ]
  },
  {
   "cell_type": "code",
   "execution_count": 2,
   "id": "904f5d6c",
   "metadata": {},
   "outputs": [],
   "source": [
    "maps = [\"SOOOL\", \"XXXXO\", \"OOOOO\", \"OXXXX\", \"OOOOE\"]\n",
    "result = 16"
   ]
  },
  {
   "cell_type": "code",
   "execution_count": 14,
   "id": "b343a446",
   "metadata": {},
   "outputs": [],
   "source": [
    "def find_str_loc(target:str):\n",
    "    for i in range(len(maps)):\n",
    "        for j in range(len(maps[0])):\n",
    "            if maps[i][j] == target:\n",
    "                return (i, j)\n",
    "\n",
    "    return False\n",
    "\n",
    "S_loc = find_str_loc('S')\n",
    "L_loc = find_str_loc('L')"
   ]
  },
  {
   "cell_type": "code",
   "execution_count": 57,
   "id": "496ce70d",
   "metadata": {},
   "outputs": [
    {
     "name": "stdout",
     "output_type": "stream",
     "text": [
      "(0, 0)\n",
      "(0, 1)\n",
      "(0, 2)\n",
      "(0, 3)\n",
      "(0, 4)\n",
      "4\n",
      "(0, 4)\n",
      "(1, 4)\n",
      "(2, 4)\n",
      "(2, 3)\n",
      "(2, 2)\n",
      "(2, 1)\n",
      "(2, 0)\n",
      "(3, 0)\n",
      "(4, 0)\n",
      "(4, 1)\n",
      "(4, 2)\n",
      "(4, 3)\n",
      "(4, 4)\n",
      "(0, 3)\n",
      "(0, 2)\n",
      "(0, 1)\n",
      "(0, 0)\n",
      "12\n"
     ]
    }
   ],
   "source": [
    "min_x, max_x = -1, len(maps[0])\n",
    "min_y, max_y = -1, len(maps)\n",
    "\n",
    "def get_distance(curr_loc: tuple, target: str, visited: list, distance:int):\n",
    "    print(curr_loc)\n",
    "\n",
    "    curr_x, curr_y = curr_loc\n",
    "    if maps[curr_x][curr_y] == target:\n",
    "        distances.append(distance)\n",
    "        return\n",
    "\n",
    "    visited[curr_x][curr_y] = True\n",
    "\n",
    "    dx = [-1, 0, 1, 0]\n",
    "    dy = [0, 1, 0, -1]\n",
    "\n",
    "    for dx, dy in zip(dx, dy):\n",
    "        next_x = curr_x + dx\n",
    "        next_y = curr_y + dy\n",
    "\n",
    "        cond_x = min_x < next_x < max_x\n",
    "        cond_y  = min_y < next_y < max_y\n",
    "        if cond_x and cond_y and maps[next_x][next_y] != 'X' and visited[next_x][next_y] == False:\n",
    "            get_distance((next_x, next_y), target, visited, distance + 1)\n",
    " \n",
    "distances = []\n",
    "visited = [[False for _ in range(max_x)] for _ in range(max_y)]\n",
    "S_to_L = get_distance(S_loc, \"L\", visited.copy(), 0)\n",
    "if len(distances) == 0:\n",
    "    print(-1)\n",
    "else:\n",
    "    print(min(distances)) \n",
    "distances = []\n",
    "visited = [[False for _ in range(max_x)] for _ in range(max_y)]\n",
    "L_to_X = get_distance(L_loc, \"E\", visited, 0)\n",
    "if len(distances) == 0:\n",
    "    print(-1)\n",
    "else:\n",
    "    print(min(distances)) "
   ]
  },
  {
   "cell_type": "code",
   "execution_count": 60,
   "id": "35cc05c1",
   "metadata": {},
   "outputs": [],
   "source": [
    "# 원래 코드\n",
    "visited = [[False] * max_x] * max_y \n",
    "# *연산자는 리스트를 복사할 때 같은 객체를 참조하게 만듬\n",
    "visited[0][0] = True  # 첫 번째 셀 방문 처리\n",
    "\n",
    "# 결과: 모든 행의 첫 번째 열이 True가 됨\n",
    "# visited = [[True, False, False], [True, False, False], [True, False, False]]"
   ]
  },
  {
   "cell_type": "code",
   "execution_count": 61,
   "id": "1186f4a0",
   "metadata": {},
   "outputs": [],
   "source": [
    "# 올바른 visited 배열 생성\n",
    "visited = [[False for _ in range(max_x)] for _ in range(max_y)]\n",
    "\n",
    "# 또는 더 간단하게\n",
    "visited = [[False] * max_x for _ in range(max_y)]"
   ]
  },
  {
   "cell_type": "markdown",
   "id": "b2f4afdf",
   "metadata": {},
   "source": [
    "# 문제 31 : 양과 늑대"
   ]
  },
  {
   "cell_type": "code",
   "execution_count": null,
   "id": "6714e54e",
   "metadata": {},
   "outputs": [],
   "source": []
  },
  {
   "cell_type": "code",
   "execution_count": null,
   "id": "714fd10f",
   "metadata": {},
   "outputs": [],
   "source": []
  },
  {
   "cell_type": "code",
   "execution_count": null,
   "id": "34ac07c7",
   "metadata": {},
   "outputs": [],
   "source": []
  }
 ],
 "metadata": {
  "kernelspec": {
   "display_name": "base",
   "language": "python",
   "name": "python3"
  },
  "language_info": {
   "codemirror_mode": {
    "name": "ipython",
    "version": 3
   },
   "file_extension": ".py",
   "mimetype": "text/x-python",
   "name": "python",
   "nbconvert_exporter": "python",
   "pygments_lexer": "ipython3",
   "version": "3.12.2"
  }
 },
 "nbformat": 4,
 "nbformat_minor": 5
}
