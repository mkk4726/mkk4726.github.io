{
 "cells": [
  {
   "cell_type": "markdown",
   "id": "74adddf2",
   "metadata": {},
   "source": [
    "---\n",
    "title: \"집합 파이썬 구현\"\n",
    "date: \"2025-09-30\"\n",
    "category: \"Codility Study\"\n",
    "tags: [\"코딩 테스트 합격자 되기\", \"Codility Study\", \"집합\"]\n",
    "excerpt: \"트리 탐색 파이썬 구현\"\n",
    "---"
   ]
  },
  {
   "cell_type": "markdown",
   "id": "483d319f",
   "metadata": {},
   "source": [
    "# 문제 33 : 간단한 유니온 파인드 알고리즘 구현하기"
   ]
  },
  {
   "cell_type": "code",
   "execution_count": 5,
   "id": "16811111",
   "metadata": {},
   "outputs": [],
   "source": [
    "k = 3\n",
    "operations = [['u', '0', '1'], ['u', '1', '2'], ['f', '0', '2']]\n",
    "result = [True]"
   ]
  },
  {
   "cell_type": "code",
   "execution_count": 14,
   "id": "dc7735c4",
   "metadata": {},
   "outputs": [
    {
     "name": "stdout",
     "output_type": "stream",
     "text": [
      "[0, 0, 0]\n",
      "True\n"
     ]
    }
   ],
   "source": [
    "set_array = [-1 for _  in range(k)]\n",
    "pred_result = []\n",
    "\n",
    "for operation in operations:\n",
    "    o, a, b = operation\n",
    "    a, b = int(a), int(b)\n",
    "    if o == 'u':\n",
    "        # 대표 원소를 어떤 기준으로 정하지?\n",
    "        # 그냥 왼쪽 오른쪽?\n",
    "        if set_array[a] == -1:\n",
    "            set_array[a] = a\n",
    "            root_node = a\n",
    "        else:\n",
    "            root_node = set_array[a]\n",
    "            \n",
    "        if set_array[b] == -1:\n",
    "            set_array[b] = root_node\n",
    "    \n",
    "    if o == 'f':\n",
    "        pred_result.append(set_array[a] == set_array[b])\n",
    "\n",
    "print(set_array)\n",
    "print(result == pred_result)"
   ]
  },
  {
   "cell_type": "code",
   "execution_count": 17,
   "id": "aede5878",
   "metadata": {},
   "outputs": [],
   "source": [
    "k = 4\n",
    "operations = [['u', '0', '1'], ['u', '2', '3'], ['f', '0', '1'], ['f', '0', '2']]\n",
    "result = [True, False]"
   ]
  },
  {
   "cell_type": "code",
   "execution_count": 18,
   "id": "aa9729e7",
   "metadata": {},
   "outputs": [
    {
     "name": "stdout",
     "output_type": "stream",
     "text": [
      "[0, 0, 2, 2]\n",
      "[True, False]\n",
      "True\n"
     ]
    }
   ],
   "source": [
    "set_array = [-1 for _  in range(k)]\n",
    "pred_result = []\n",
    "\n",
    "for operation in operations:\n",
    "    o, a, b = operation\n",
    "    a, b = int(a), int(b)\n",
    "    if o == 'u':\n",
    "        # 대표 원소를 어떤 기준으로 정하지?\n",
    "        # 그냥 왼쪽 오른쪽?\n",
    "        if set_array[a] == -1:\n",
    "            set_array[a] = a\n",
    "            root_node = a\n",
    "        else:\n",
    "            root_node = set_array[a]\n",
    "            \n",
    "        if set_array[b] == -1:\n",
    "            set_array[b] = root_node\n",
    "    \n",
    "    if o == 'f':\n",
    "        pred_result.append(set_array[a] == set_array[b])\n",
    "\n",
    "print(set_array)\n",
    "print(pred_result)\n",
    "print(result == pred_result)"
   ]
  },
  {
   "cell_type": "markdown",
   "id": "261de5ca",
   "metadata": {},
   "source": [
    "문제 풀이 자체는 맞았는데, 경로압축, 랭크 등을 활용하지 못함"
   ]
  },
  {
   "cell_type": "code",
   "execution_count": 32,
   "id": "5be52c96",
   "metadata": {},
   "outputs": [
    {
     "name": "stdout",
     "output_type": "stream",
     "text": [
      "True\n",
      "False\n"
     ]
    }
   ],
   "source": [
    "def find(x:int, parents:list):\n",
    "    if parents[x] != x:\n",
    "        parents[x] = find(parents[x], parents)\n",
    "    return parents[x]\n",
    "\n",
    "def union_set(x:int, y:int, parents:list, rank_data:list):\n",
    "    # x와 y의 루트 노드부터 찾기\n",
    "    root_x = find(x, parents)\n",
    "    root_y = find(y, parents)\n",
    "    \n",
    "    # 같지 않다면 합쳐주기\n",
    "    if root_x != root_y:\n",
    "        if rank_data[root_x] > rank_data[root_y]:\n",
    "            parents[root_y] = root_x\n",
    "        elif rank_data[root_x] < rank_data[root_y]:\n",
    "            parents[root_x] = root_y\n",
    "        else:\n",
    "            parents[root_y] = root_x\n",
    "            rank_data[root_x] += 1\n",
    "            \n",
    "parents = list(range(k))\n",
    "rank_data = [0] * k # 처음에는 자기 자신을 부모로 가지는 리스트 생성\n",
    "\n",
    "for operation in operations:\n",
    "    if operation[0] == 'u':\n",
    "        x = int(operation[1])\n",
    "        y = int(operation[2])\n",
    "        \n",
    "        union_set(x, y, parents, rank_data)\n",
    "    elif operation[0] == 'f':\n",
    "        x = int(operation[1])\n",
    "        y = int(operation[2])\n",
    "        \n",
    "        print(find(x, parents) == find(y, parents))"
   ]
  },
  {
   "cell_type": "markdown",
   "id": "b136acf7",
   "metadata": {},
   "source": [
    "# 문제 34 : 폰켓몬"
   ]
  },
  {
   "cell_type": "markdown",
   "id": "6b87d00b",
   "metadata": {},
   "source": [
    "union, find 연관짓다가 시간 많이 썼네. 쉽게 풀 수 있는 방향으로 접근하자."
   ]
  },
  {
   "cell_type": "code",
   "execution_count": 33,
   "id": "17b4bba6",
   "metadata": {},
   "outputs": [],
   "source": [
    "nums = [3, 1, 2, 3]\n",
    "result = 2"
   ]
  },
  {
   "cell_type": "code",
   "execution_count": 40,
   "id": "a08ab7c3",
   "metadata": {},
   "outputs": [
    {
     "data": {
      "text/plain": [
       "2"
      ]
     },
     "execution_count": 40,
     "metadata": {},
     "output_type": "execute_result"
    }
   ],
   "source": [
    "def solution(nums):\n",
    "    return min(len(list(set(nums))), len(nums) // 2)\n",
    "\n",
    "solution(nums)"
   ]
  },
  {
   "cell_type": "code",
   "execution_count": 41,
   "id": "51c766cc",
   "metadata": {},
   "outputs": [
    {
     "data": {
      "text/plain": [
       "3"
      ]
     },
     "execution_count": 41,
     "metadata": {},
     "output_type": "execute_result"
    }
   ],
   "source": [
    "nums = [3, 3, 3, 2, 2, 4]\n",
    "result = 3\n",
    "solution(nums)"
   ]
  },
  {
   "cell_type": "code",
   "execution_count": 42,
   "id": "d755bd82",
   "metadata": {},
   "outputs": [
    {
     "data": {
      "text/plain": [
       "2"
      ]
     },
     "execution_count": 42,
     "metadata": {},
     "output_type": "execute_result"
    }
   ],
   "source": [
    "nums = [3, 3, 3, 2, 2, 2]\n",
    "result = 2\n",
    "solution(nums)"
   ]
  },
  {
   "cell_type": "markdown",
   "id": "898973fc",
   "metadata": {},
   "source": [
    "# 문제 35 : 영어 끝말잇기"
   ]
  },
  {
   "cell_type": "markdown",
   "id": "d25775b3",
   "metadata": {},
   "source": [
    "쉬운 문제인데 생각보다 너무 오래 걸림"
   ]
  },
  {
   "cell_type": "code",
   "execution_count": 13,
   "id": "69fb4d61",
   "metadata": {},
   "outputs": [],
   "source": [
    "n = 3\n",
    "words = ['tank', 'kick', 'know', 'wheel', 'land', 'dream', 'mother', 'robot', 'tank']\n",
    "result = [3, 3] # 3번 사람이 3번째 탈락"
   ]
  },
  {
   "cell_type": "code",
   "execution_count": 33,
   "id": "1034c7f3",
   "metadata": {},
   "outputs": [
    {
     "data": {
      "text/plain": [
       "[1, 3]"
      ]
     },
     "execution_count": 33,
     "metadata": {},
     "output_type": "execute_result"
    }
   ],
   "source": [
    "def solution(n, words):\n",
    "    N = len(words)\n",
    "    prev_words = set()\n",
    "    prev_words.update([words[0]])\n",
    "    \n",
    "    success = True\n",
    "    \n",
    "    for i in range(1, N):\n",
    "        prev_word = words[i-1]\n",
    "        curr_word = words[i]\n",
    "        \n",
    "        if prev_word[-1] != curr_word[0] or curr_word in prev_words:\n",
    "            success = False\n",
    "            break\n",
    "\n",
    "        prev_words.update([curr_word])\n",
    "    \n",
    "    if success is True:\n",
    "        return [0, 0]\n",
    "    \n",
    "    count = (i + 1) // n\n",
    "    number = (i + 1) % n\n",
    "    \n",
    "    if number == 0:\n",
    "        number = n\n",
    "    else:\n",
    "        count += 1\n",
    "        \n",
    "    return [number, count]\n",
    "        \n",
    "solution(n, words)"
   ]
  },
  {
   "cell_type": "code",
   "execution_count": 29,
   "id": "0cb175eb",
   "metadata": {},
   "outputs": [
    {
     "data": {
      "text/plain": [
       "True"
      ]
     },
     "execution_count": 29,
     "metadata": {},
     "output_type": "execute_result"
    }
   ],
   "source": [
    "a = set()\n",
    "a.update([\"tank\"])\n",
    "\n",
    "'tank' in a"
   ]
  },
  {
   "cell_type": "code",
   "execution_count": 36,
   "id": "e4d2952e",
   "metadata": {},
   "outputs": [
    {
     "name": "stdout",
     "output_type": "stream",
     "text": [
      "0\n",
      "1\n",
      "2\n",
      "3\n",
      "4\n",
      "5\n",
      "6\n"
     ]
    }
   ],
   "source": [
    "for i, word in enumerate(words):\n",
    "    print(i)"
   ]
  },
  {
   "cell_type": "code",
   "execution_count": 30,
   "id": "fb4aa478",
   "metadata": {},
   "outputs": [
    {
     "data": {
      "text/plain": [
       "[0, 0]"
      ]
     },
     "execution_count": 30,
     "metadata": {},
     "output_type": "execute_result"
    }
   ],
   "source": [
    "n = 5\n",
    "words = ['hello', 'observe', 'effect', 'take', 'either', 'recognize', 'encourage', 'ensure', 'establish', \n",
    "         'hang', 'gather', 'refer', 'reference', 'estimate', 'executive']\n",
    "result = [0, 0] # 탈락자발생 안함\n",
    "\n",
    "solution(n, words)"
   ]
  },
  {
   "cell_type": "code",
   "execution_count": 34,
   "id": "ec79a5c9",
   "metadata": {},
   "outputs": [
    {
     "data": {
      "text/plain": [
       "[1, 3]"
      ]
     },
     "execution_count": 34,
     "metadata": {},
     "output_type": "execute_result"
    }
   ],
   "source": [
    "n = 2\n",
    "words = ['hello', 'one', 'even', 'never', 'now', 'world','draw']\n",
    "result = [1, 3] # 1번, 끝말잇기 규칙 벗어남\n",
    "solution(n, words)"
   ]
  },
  {
   "cell_type": "markdown",
   "id": "34ea6cab",
   "metadata": {},
   "source": [
    "# 문제 36 : 전화번호 목록"
   ]
  },
  {
   "cell_type": "markdown",
   "id": "87f0f5ec",
   "metadata": {},
   "source": [
    "역시 한쪽으로 풀어야겠다고 생각한 순간 다른 방법은 생각이 잘 안남"
   ]
  },
  {
   "cell_type": "code",
   "execution_count": 41,
   "id": "75599bf8",
   "metadata": {},
   "outputs": [],
   "source": [
    "phone_book = [\"119\", \"97674223\", \"1195524421\"]\n",
    "result = False"
   ]
  },
  {
   "cell_type": "code",
   "execution_count": 47,
   "id": "92924c0d",
   "metadata": {},
   "outputs": [
    {
     "data": {
      "text/plain": [
       "False"
      ]
     },
     "execution_count": 47,
     "metadata": {},
     "output_type": "execute_result"
    }
   ],
   "source": [
    "def solution(phone_book: list): # O(NlogN)\n",
    "    phone_book = sorted(phone_book) # O(NlogN)\n",
    "    \n",
    "    for i in range(len(phone_book) -1): # O(N * 20)\n",
    "        if phone_book[i+1].startswith(phone_book[i]):\n",
    "            return False\n",
    "    return True\n",
    "\n",
    "solution(phone_book)"
   ]
  },
  {
   "cell_type": "code",
   "execution_count": 48,
   "id": "79fc621d",
   "metadata": {},
   "outputs": [
    {
     "data": {
      "text/plain": [
       "True"
      ]
     },
     "execution_count": 48,
     "metadata": {},
     "output_type": "execute_result"
    }
   ],
   "source": [
    "phone_book = [\"123\", \"456\", \"789\"]\n",
    "result = True\n",
    "solution(phone_book)"
   ]
  },
  {
   "cell_type": "code",
   "execution_count": 49,
   "id": "c163cede",
   "metadata": {},
   "outputs": [
    {
     "data": {
      "text/plain": [
       "False"
      ]
     },
     "execution_count": 49,
     "metadata": {},
     "output_type": "execute_result"
    }
   ],
   "source": [
    "phone_book = [\"12\", \"123\", \"1235\", \"567\", \"88\"]\n",
    "result = False\n",
    "solution(phone_book)"
   ]
  },
  {
   "cell_type": "markdown",
   "id": "ac945fa3",
   "metadata": {},
   "source": [
    "# 문제 37 : 섬 연결하기"
   ]
  },
  {
   "cell_type": "markdown",
   "id": "3e4a87f2",
   "metadata": {},
   "source": [
    "모르는 개념이 많이 나오네.  \n",
    "- MST (최소신장 트리)\n",
    "- 상호배타적 집합 연산으로 Cycle 여부 판별"
   ]
  },
  {
   "cell_type": "code",
   "execution_count": null,
   "id": "f67eec1d",
   "metadata": {},
   "outputs": [],
   "source": []
  },
  {
   "cell_type": "code",
   "execution_count": null,
   "id": "d3bfd0d4",
   "metadata": {},
   "outputs": [],
   "source": []
  }
 ],
 "metadata": {
  "kernelspec": {
   "display_name": "chatbot_venv",
   "language": "python",
   "name": "python3"
  },
  "language_info": {
   "codemirror_mode": {
    "name": "ipython",
    "version": 3
   },
   "file_extension": ".py",
   "mimetype": "text/x-python",
   "name": "python",
   "nbconvert_exporter": "python",
   "pygments_lexer": "ipython3",
   "version": "3.10.8"
  }
 },
 "nbformat": 4,
 "nbformat_minor": 5
}
