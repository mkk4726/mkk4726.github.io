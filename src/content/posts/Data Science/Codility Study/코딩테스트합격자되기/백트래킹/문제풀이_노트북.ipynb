{
 "cells": [
  {
   "cell_type": "markdown",
   "id": "d748144e",
   "metadata": {},
   "source": [
    "---\n",
    "title: \"백트래킹 문제풀이\"\n",
    "date: \"2025-10-02\"\n",
    "category: \"Codility Study\"\n",
    "tags: [\"코딩 테스트 합격자 되기\", \"Codility Study\", \"Backtracking\"]\n",
    "excerpt: \"백트래킹 문제 풀이 구현 파이썬 노트북!\"\n",
    "---"
   ]
  },
  {
   "cell_type": "markdown",
   "id": "76ab1dd7",
   "metadata": {},
   "source": [
    "# 문제 47 : 1부터 N까지 숫자 중 합이 10이 되는 조합 구하기"
   ]
  },
  {
   "cell_type": "markdown",
   "id": "62796baa",
   "metadata": {},
   "source": [
    "정수 N을 입력받아 1부터 N까지의 숫자 중에서 합이 10이 되는 조합을 리스트로 반환하는 soltuon() 함수를 작성하세요."
   ]
  },
  {
   "cell_type": "code",
   "execution_count": 28,
   "id": "15497c66",
   "metadata": {},
   "outputs": [],
   "source": [
    "N = 5\n",
    "result = [[1, 2, 3, 4], [1, 4, 5], [2, 3, 5]]"
   ]
  },
  {
   "cell_type": "code",
   "execution_count": 34,
   "id": "f3351178",
   "metadata": {},
   "outputs": [
    {
     "name": "stdout",
     "output_type": "stream",
     "text": [
      "[[1, 2, 3, 4], [1, 4, 5], [2, 3, 5]]\n"
     ]
    }
   ],
   "source": [
    "# 그래프로 표현하기 -> 처음해보니까 감이 안오네\n",
    "result = []\n",
    "\n",
    "def search(N:int, n_list:list[int], level:int):\n",
    "    if sum(n_list) == 10:\n",
    "        result.append(n_list)\n",
    "        return\n",
    "    \n",
    "    if level > N or sum(n_list) > 10:\n",
    "        return\n",
    "    \n",
    "    # 현재 숫자(level)를 포함하는 경우\n",
    "    search(N=N, n_list=n_list + [level], level=level+1)\n",
    "    # 현재 숫자(level)를 포함하지 않는 경우\n",
    "    search(N=N, n_list=n_list, level=level+1)\n",
    "\n",
    "search(N=5, n_list=[], level=1)\n",
    "print(result)\n",
    "\n",
    "# promising function\n",
    "# 조합의 합이 10이거나, 10보다 크면 멈추기."
   ]
  },
  {
   "cell_type": "code",
   "execution_count": 36,
   "id": "3d6da447",
   "metadata": {},
   "outputs": [
    {
     "name": "stdout",
     "output_type": "stream",
     "text": [
      "[]\n"
     ]
    }
   ],
   "source": [
    "N = 2\n",
    "result = []\n",
    "\n",
    "search(N=2, n_list=[], level=1)\n",
    "print(result)"
   ]
  },
  {
   "cell_type": "code",
   "execution_count": 37,
   "id": "0ca66dfa",
   "metadata": {},
   "outputs": [
    {
     "name": "stdout",
     "output_type": "stream",
     "text": [
      "[[1, 2, 3, 4], [1, 2, 7], [1, 3, 6], [1, 4, 5], [2, 3, 5], [3, 7], [4, 6], [1, 2, 3, 4], [1, 2, 7], [1, 3, 6], [1, 4, 5], [2, 3, 5], [3, 7], [4, 6]]\n"
     ]
    }
   ],
   "source": [
    "N = 7\n",
    "result = [[1, 2, 3, 4], [1, 2, 7], [1, 3, 6], [1, 4, 5], [2, 3, 5], [3, 7], [4, 6]]\n",
    "search(N=N, n_list=[], level=1)\n",
    "print(result)"
   ]
  },
  {
   "cell_type": "code",
   "execution_count": null,
   "id": "09215a86",
   "metadata": {},
   "outputs": [],
   "source": []
  }
 ],
 "metadata": {
  "kernelspec": {
   "display_name": "chatbot_venv",
   "language": "python",
   "name": "python3"
  },
  "language_info": {
   "codemirror_mode": {
    "name": "ipython",
    "version": 3
   },
   "file_extension": ".py",
   "mimetype": "text/x-python",
   "name": "python",
   "nbconvert_exporter": "python",
   "pygments_lexer": "ipython3",
   "version": "3.10.8"
  }
 },
 "nbformat": 4,
 "nbformat_minor": 5
}
