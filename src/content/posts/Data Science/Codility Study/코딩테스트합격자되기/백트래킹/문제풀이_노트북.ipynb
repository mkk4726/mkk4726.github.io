{
 "cells": [
  {
   "cell_type": "markdown",
   "id": "d748144e",
   "metadata": {},
   "source": [
    "---\n",
    "title: \"백트래킹 문제풀이\"\n",
    "date: \"2025-10-02\"\n",
    "category: \"Codility Study\"\n",
    "tags: [\"코딩 테스트 합격자 되기\", \"Codility Study\", \"Backtracking\"]\n",
    "excerpt: \"백트래킹 문제 풀이 구현 파이썬 노트북!\"\n",
    "---"
   ]
  },
  {
   "cell_type": "markdown",
   "id": "76ab1dd7",
   "metadata": {},
   "source": [
    "# 문제 47 : 1부터 N까지 숫자 중 합이 10이 되는 조합 구하기"
   ]
  },
  {
   "cell_type": "markdown",
   "id": "62796baa",
   "metadata": {},
   "source": [
    "정수 N을 입력받아 1부터 N까지의 숫자 중에서 합이 10이 되는 조합을 리스트로 반환하는 soltuon() 함수를 작성하세요."
   ]
  },
  {
   "cell_type": "code",
   "execution_count": 28,
   "id": "15497c66",
   "metadata": {},
   "outputs": [],
   "source": [
    "N = 5\n",
    "result = [[1, 2, 3, 4], [1, 4, 5], [2, 3, 5]]"
   ]
  },
  {
   "cell_type": "code",
   "execution_count": 34,
   "id": "f3351178",
   "metadata": {},
   "outputs": [
    {
     "name": "stdout",
     "output_type": "stream",
     "text": [
      "[[1, 2, 3, 4], [1, 4, 5], [2, 3, 5]]\n"
     ]
    }
   ],
   "source": [
    "# 그래프로 표현하기 -> 처음해보니까 감이 안오네\n",
    "result = []\n",
    "\n",
    "def search(N:int, n_list:list[int], level:int):\n",
    "    if sum(n_list) == 10:\n",
    "        result.append(n_list)\n",
    "        return\n",
    "    \n",
    "    if level > N or sum(n_list) > 10:\n",
    "        return\n",
    "    \n",
    "    # 현재 숫자(level)를 포함하는 경우\n",
    "    search(N=N, n_list=n_list + [level], level=level+1)\n",
    "    # 현재 숫자(level)를 포함하지 않는 경우\n",
    "    search(N=N, n_list=n_list, level=level+1)\n",
    "\n",
    "search(N=5, n_list=[], level=1)\n",
    "print(result)\n",
    "\n",
    "# promising function\n",
    "# 조합의 합이 10이거나, 10보다 크면 멈추기."
   ]
  },
  {
   "cell_type": "code",
   "execution_count": 36,
   "id": "3d6da447",
   "metadata": {},
   "outputs": [
    {
     "name": "stdout",
     "output_type": "stream",
     "text": [
      "[]\n"
     ]
    }
   ],
   "source": [
    "N = 2\n",
    "result = []\n",
    "\n",
    "search(N=2, n_list=[], level=1)\n",
    "print(result)"
   ]
  },
  {
   "cell_type": "code",
   "execution_count": 37,
   "id": "0ca66dfa",
   "metadata": {},
   "outputs": [
    {
     "name": "stdout",
     "output_type": "stream",
     "text": [
      "[[1, 2, 3, 4], [1, 2, 7], [1, 3, 6], [1, 4, 5], [2, 3, 5], [3, 7], [4, 6], [1, 2, 3, 4], [1, 2, 7], [1, 3, 6], [1, 4, 5], [2, 3, 5], [3, 7], [4, 6]]\n"
     ]
    }
   ],
   "source": [
    "N = 7\n",
    "result = [[1, 2, 3, 4], [1, 2, 7], [1, 3, 6], [1, 4, 5], [2, 3, 5], [3, 7], [4, 6]]\n",
    "search(N=N, n_list=[], level=1)\n",
    "print(result)"
   ]
  },
  {
   "cell_type": "markdown",
   "id": "31001670",
   "metadata": {},
   "source": [
    "# 문제 49 : 피로도"
   ]
  },
  {
   "cell_type": "markdown",
   "id": "9b74c4a7",
   "metadata": {},
   "source": [
    "부분집합이랑 결을 같이 하네. 순서가 있다는 걸 제외하고.   \n",
    "첫번째로 1번, 2번, 3번 가는 경우  \n",
    "두번째로 1번, 2번, 3번 가는 경우   \n",
    "이런식으로 트리 형태로 표현할 수 있겠고,   \n",
    "promising function은 가지 않았던 곳이랑  현재 피로도가 최소 필요도보다 많은지"
   ]
  },
  {
   "cell_type": "code",
   "execution_count": 3,
   "id": "8826d4c0",
   "metadata": {},
   "outputs": [],
   "source": [
    "k = 80 # 현재 피로도\n",
    "dungeons = [[80, 20], [50, 40], [30, 10]] # 최소 필요 피로도, 소모 피로도\n",
    "result = 3 # 탐험할 수 있는 최대 피로도"
   ]
  },
  {
   "cell_type": "code",
   "execution_count": 2,
   "id": "0cbcbbcc",
   "metadata": {},
   "outputs": [],
   "source": [
    "# 다 탐색하고 마지막에 max()로 뽑을까?"
   ]
  },
  {
   "cell_type": "code",
   "execution_count": 5,
   "id": "09215a86",
   "metadata": {},
   "outputs": [
    {
     "name": "stdout",
     "output_type": "stream",
     "text": [
      "3\n"
     ]
    }
   ],
   "source": [
    "max_result = 0\n",
    "\n",
    "def search(curr_hp:int, count:int, num_dungeon:int, visited:list):\n",
    "    global max_result  # global로 선언해야 함수 안에서 max_result 값을 변경할 수 있음\n",
    "    visited = visited.copy()  # 리스트를 직접 수정하지 않기 위해 복사본 사용\n",
    "    visited.append(num_dungeon)\n",
    "    \n",
    "    if dungeons[num_dungeon][0] <= curr_hp: # 최소 피로도 <= 현재 피로도\n",
    "        count += 1\n",
    "        curr_hp -= dungeons[num_dungeon][1]\n",
    "        \n",
    "        if count > max_result:\n",
    "            max_result = count\n",
    "    \n",
    "        for i in range(len(dungeons)):\n",
    "            if i not in visited:\n",
    "                search(curr_hp, count, i, visited)\n",
    "\n",
    "for i in range(len(dungeons)):\n",
    "    search(k, 0, i, [])\n",
    "\n",
    "print(max_result)"
   ]
  },
  {
   "cell_type": "code",
   "execution_count": 6,
   "id": "733cc49b",
   "metadata": {},
   "outputs": [],
   "source": [
    "# 백트래킹을 위한 DFS\n",
    "\n",
    "def dfs(cur_k, cnt, dungeons, visited):\n",
    "    answer_max = cnt\n",
    "    \n",
    "    for i in range(len(dungeons)):\n",
    "        if cur_k >= dungeons[i][0] and visited[i] == 0:\n",
    "            visited[i] = 1\n",
    "            answer_max = max(answer_max, dfs(cur_k - dungeons[i][1], cnt + 1, dungeons, visited))\n",
    "            visited[i] = 0\n",
    "    \n",
    "    return answer_max\n",
    "\n",
    "def solution(k, dungeons):\n",
    "    visited = [0] * len(dungeons)\n",
    "    answer_max = dfs(k, 0, dungeons, visited)\n",
    "    \n",
    "    return answer_max"
   ]
  },
  {
   "cell_type": "markdown",
   "id": "f41e96af",
   "metadata": {},
   "source": [
    "교재 풀이가 깔끔한 dfs 풀이네"
   ]
  },
  {
   "cell_type": "code",
   "execution_count": null,
   "id": "b0ad684b",
   "metadata": {},
   "outputs": [],
   "source": []
  }
 ],
 "metadata": {
  "kernelspec": {
   "display_name": "chatbot_venv",
   "language": "python",
   "name": "python3"
  },
  "language_info": {
   "codemirror_mode": {
    "name": "ipython",
    "version": 3
   },
   "file_extension": ".py",
   "mimetype": "text/x-python",
   "name": "python",
   "nbconvert_exporter": "python",
   "pygments_lexer": "ipython3",
   "version": "3.10.8"
  }
 },
 "nbformat": 4,
 "nbformat_minor": 5
}
