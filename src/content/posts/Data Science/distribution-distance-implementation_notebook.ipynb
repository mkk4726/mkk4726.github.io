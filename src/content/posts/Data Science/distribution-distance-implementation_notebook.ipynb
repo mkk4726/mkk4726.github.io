{
 "cells": [
  {
   "cell_type": "markdown",
   "id": "76ba3178",
   "metadata": {},
   "source": [
    "---\n",
    "title: \"분포간 차이 구현 노트북\"\n",
    "date: \"2025-08-12\"\n",
    "category: \"Data Science\"\n",
    "tags: [\"KDE\", \"Distribution Distance\", \"KL\", \"JS\", \"Wasserstein\"]\n",
    "excerpt: \"분포간 차이 구현 노트북\"\n",
    "---"
   ]
  },
  {
   "cell_type": "markdown",
   "id": "3362e9f0",
   "metadata": {},
   "source": [
    "기본적인 설정들\n",
    "- notebook kernel : docker jupyter lab kernel 사용\n",
    "\n",
    "실험내용\n",
    "> 분포 간에 차이를 측정할 떄 사용하는 지표 구현\n",
    "- Kullback-Leibler Divergence\n",
    "- Jensen-Shannon Divergence\n",
    "- Wasserstein Distance\n",
    "\n",
    "1. KDE를 통해 분포 추정\n",
    "2. (사이즈별) 분포 간 차이 측정"
   ]
  },
  {
   "cell_type": "markdown",
   "id": "916f4917",
   "metadata": {},
   "source": [
    "# Estimate Density Function"
   ]
  },
  {
   "cell_type": "code",
   "execution_count": 6,
   "id": "e97930f4",
   "metadata": {},
   "outputs": [
    {
     "name": "stdout",
     "output_type": "stream",
     "text": [
      "0.20609596822753715\n",
      "(3599,)\n"
     ]
    }
   ],
   "source": [
    "from sklearn.neighbors import KernelDensity\n",
    "from sklearn.preprocessing import StandardScaler\n",
    "import numpy as np\n",
    "\n",
    "\n",
    "# 자동 대역폭 선택을 위한 함수\n",
    "def auto_bandwidth(data):\n",
    "    \"\"\"\n",
    "    Silverman의 규칙을 사용하여 자동 대역폭 선택\n",
    "    \"\"\"\n",
    "    n = len(data)\n",
    "    std = np.std(data)\n",
    "\n",
    "    # Silverman's rule of thumb\n",
    "    bandwidth = 1.06 * std * (n ** (-1 / 5))\n",
    "    return bandwidth\n",
    "\n",
    "\n",
    "def kde_density_estimation(kde_data, bandwidth=20, kernel=\"gaussian\"):\n",
    "    \"\"\"\n",
    "    KDE를 사용하여 밀도 추정\n",
    "    \"\"\"\n",
    "    kde = KernelDensity(bandwidth=bandwidth, kernel=kernel)\n",
    "    kde.fit(kde_data)\n",
    "\n",
    "    density_values = np.exp(kde.score_samples(kde_data))\n",
    "\n",
    "    return kde, density_values\n",
    "\n",
    "\n",
    "scaler = StandardScaler()\n",
    "\n",
    "kde_data = data.drop([\"size\"], axis=1)\n",
    "normalized_data = scaler.fit_transform(kde_data)\n",
    "\n",
    "\n",
    "auto_bw = auto_bandwidth(normalized_data)\n",
    "print(auto_bw)\n",
    "kde, density_values = kde_density_estimation(normalized_data, bandwidth=auto_bw, kernel=\"gaussian\")\n",
    "print(density_values.shape)"
   ]
  },
  {
   "cell_type": "code",
   "execution_count": 11,
   "id": "69732eee",
   "metadata": {},
   "outputs": [
    {
     "data": {
      "text/plain": [
       "numpy.ndarray"
      ]
     },
     "execution_count": 11,
     "metadata": {},
     "output_type": "execute_result"
    }
   ],
   "source": [
    "type(normalized_data)"
   ]
  },
  {
   "cell_type": "markdown",
   "id": "e69f43d1",
   "metadata": {},
   "source": [
    "추정한 밀도 분포 통계값 뽑아서 확인해보기"
   ]
  },
  {
   "cell_type": "code",
   "execution_count": 7,
   "id": "6f85bbd1",
   "metadata": {},
   "outputs": [
    {
     "name": "stdout",
     "output_type": "stream",
     "text": [
      "=== 밀도 값 현황 ===\n",
      "밀도 값 개수: 3599\n",
      "최소값: 0.003901\n",
      "최대값: 0.054179\n",
      "평균값: 0.015022\n",
      "중간값: 0.011848\n",
      "표준편차: 0.010400\n",
      "\n",
      "0.1보다 큰 값 개수: 0\n",
      "0.1보다 큰 값들: []\n"
     ]
    }
   ],
   "source": [
    "# 밀도 값들의 기본 통계 확인\n",
    "print(\"=== 밀도 값 현황 ===\")\n",
    "print(f\"밀도 값 개수: {len(density_values)}\")\n",
    "print(f\"최소값: {np.min(density_values):.6f}\")\n",
    "print(f\"최대값: {np.max(density_values):.6f}\")\n",
    "print(f\"평균값: {np.mean(density_values):.6f}\")\n",
    "print(f\"중간값: {np.median(density_values):.6f}\")\n",
    "print(f\"표준편차: {np.std(density_values):.6f}\")\n",
    "print()\n",
    "\n",
    "# 0.1보다 큰 값이 있는지 확인\n",
    "above_threshold = density_values[density_values > 0.1]\n",
    "print(f\"0.1보다 큰 값 개수: {len(above_threshold)}\")\n",
    "print(f\"0.1보다 큰 값들: {above_threshold}\")"
   ]
  },
  {
   "cell_type": "markdown",
   "id": "4de2150b",
   "metadata": {},
   "source": [
    "특정 포인트에 대한 밀도 값을 해석하는 방법 중 하나"
   ]
  },
  {
   "cell_type": "code",
   "execution_count": 8,
   "id": "96fd2893",
   "metadata": {},
   "outputs": [
    {
     "name": "stdout",
     "output_type": "stream",
     "text": [
      "=== 밀도 값 0.02 해석 ===\n",
      "상대적 위치: 하위 73.3%\n",
      "일반성 정도: 일반적\n",
      "유사한 밀도 데이터: 787개\n"
     ]
    }
   ],
   "source": [
    "def interpret_density_value(density_values, target_density):\n",
    "    \"\"\"\n",
    "    특정 밀도 값의 의미 해석\n",
    "    \"\"\"\n",
    "    print(f\"=== 밀도 값 {target_density} 해석 ===\")\n",
    "\n",
    "    # 1. 상대적 위치\n",
    "    percentile = np.mean(density_values <= target_density) * 100\n",
    "    print(f\"상대적 위치: 하위 {percentile:.1f}%\")\n",
    "\n",
    "    # 2. 일반성 정도\n",
    "    if percentile < 25:\n",
    "        generality = \"매우 특이함\"\n",
    "    elif percentile < 50:\n",
    "        generality = \"특이함\"\n",
    "    elif percentile < 75:\n",
    "        generality = \"일반적\"\n",
    "    else:\n",
    "        generality = \"매우 일반적\"\n",
    "\n",
    "    print(f\"일반성 정도: {generality}\")\n",
    "\n",
    "    # 3. 유사한 밀도를 가진 데이터 수\n",
    "    similar_count = np.sum(np.abs(density_values - target_density) < 0.005)\n",
    "    print(f\"유사한 밀도 데이터: {similar_count}개\")\n",
    "\n",
    "    return percentile, generality\n",
    "\n",
    "\n",
    "# 해석 실행\n",
    "percentile, generality = interpret_density_value(density_values, 0.02)"
   ]
  },
  {
   "cell_type": "markdown",
   "id": "0abeb049",
   "metadata": {},
   "source": [
    "# 사이즈 별 분포 차이 확인하기"
   ]
  },
  {
   "cell_type": "code",
   "execution_count": 13,
   "id": "ffb26fc9",
   "metadata": {},
   "outputs": [],
   "source": [
    "# 1. 사이즈별 밀도 추정\n",
    "\n",
    "import numpy as np\n",
    "from scipy.stats import entropy\n",
    "from sklearn.preprocessing import StandardScaler\n",
    "\n",
    "from src.utils.dist_diff import auto_bandwidth, kde_density_estimation\n",
    "\n",
    "scaler = StandardScaler()\n",
    "data_12_1 = data.loc[data[\"size\"] == \"12.1\"].drop([\"size\"], axis=1)\n",
    "data_12_1 = scaler.fit_transform(data_12_1)\n",
    "\n",
    "scaler = StandardScaler()\n",
    "data_12_6 = data.loc[data[\"size\"] == \"12.6\"].drop([\"size\"], axis=1)\n",
    "data_12_6 = scaler.fit_transform(data_12_6)\n",
    "\n",
    "scaler = StandardScaler()\n",
    "data_13_2 = data.loc[data[\"size\"] == \"13.2\"].drop([\"size\"], axis=1)\n",
    "data_13_2 = scaler.fit_transform(data_13_2)\n",
    "\n",
    "\n",
    "kde_12_1, density_values_12_1 = kde_density_estimation(data_12_1, bandwidth=auto_bandwidth(data_12_1), kernel=\"gaussian\")\n",
    "kde_12_6, density_values_12_6 = kde_density_estimation(data_12_6, bandwidth=auto_bandwidth(data_12_6), kernel=\"gaussian\")\n",
    "kde_13_2, density_values_13_2 = kde_density_estimation(data_13_2, bandwidth=auto_bandwidth(data_13_2), kernel=\"gaussian\")"
   ]
  },
  {
   "cell_type": "code",
   "execution_count": 16,
   "id": "1d71c3a1",
   "metadata": {},
   "outputs": [
    {
     "name": "stdout",
     "output_type": "stream",
     "text": [
      "KL Divergence (12.1 vs 12.6): 0.3568783475138717\n",
      "KL Divergence (12.6 vs 12.1): 0.3461563588894394\n"
     ]
    }
   ],
   "source": [
    "# 2. KL Divergence 계산\n",
    "\n",
    "np.random.seed(42)\n",
    "\n",
    "epsilon = 1e-10\n",
    "p_hist = np.clip(density_values_12_1, epsilon, None)\n",
    "q_hist = np.clip(density_values_12_6, epsilon, None)\n",
    "q_hist = np.random.choice(q_hist, size=p_hist.shape[0])  # 사이즈 맞춰주기 위해서\n",
    "\n",
    "kl_value = entropy(p_hist, q_hist)  # scipy의 entropy가 KL divergence 계산\n",
    "print(\"KL Divergence (12.1 vs 12.6):\", kl_value)\n",
    "kl_value = entropy(q_hist, p_hist)  # scipy의 entropy가 KL divergence 계산\n",
    "print(\"KL Divergence (12.6 vs 12.1):\", kl_value)"
   ]
  },
  {
   "cell_type": "markdown",
   "id": "fa5faa53",
   "metadata": {},
   "source": [
    "KL Divergence 특징. \n",
    "- 순서 바꾸면 값이 달라짐\n",
    "- noise에 취약함 혹은 민감함"
   ]
  },
  {
   "cell_type": "code",
   "execution_count": 18,
   "id": "17deddc3",
   "metadata": {},
   "outputs": [
    {
     "name": "stdout",
     "output_type": "stream",
     "text": [
      "JS Divergence: 0.084235\n"
     ]
    }
   ],
   "source": [
    "# 3. JS Divergence 계산\n",
    "\n",
    "import numpy as np\n",
    "from scipy.stats import entropy\n",
    "\n",
    "\n",
    "def js_divergence(p: np.ndarray, q: np.ndarray) -> float:\n",
    "    \"\"\"\n",
    "    Jensen-Shannon Divergence 계산\n",
    "\n",
    "    Args:\n",
    "        p, q: 두 확률 분포 (1차원 배열)\n",
    "\n",
    "    Returns:\n",
    "        float: JS Divergence 값\n",
    "    \"\"\"\n",
    "    # 배열 길이 맞추기\n",
    "    min_length = min(len(p), len(q))\n",
    "\n",
    "    p = np.random.choice(p, min_length)\n",
    "    q = np.random.choice(q, min_length)\n",
    "\n",
    "    # 확률 분포로 정규화 (합이 1이 되도록)\n",
    "    p_norm = p / np.sum(p)\n",
    "    q_norm = q / np.sum(q)\n",
    "\n",
    "    # 중간 분포 m = (p + q) / 2\n",
    "    m = (p_norm + q_norm) / 2\n",
    "\n",
    "    # JS Divergence = (KL(p||m) + KL(q||m)) / 2\n",
    "    js_div = (entropy(p_norm, m) + entropy(q_norm, m)) / 2\n",
    "\n",
    "    return js_div\n",
    "\n",
    "\n",
    "# 사용 예시\n",
    "js_div_value = js_divergence(p_hist, q_hist)\n",
    "print(f\"JS Divergence: {js_div_value:.6f}\")\n"
   ]
  },
  {
   "cell_type": "code",
   "execution_count": 21,
   "id": "4eb20e9a",
   "metadata": {},
   "outputs": [
    {
     "name": "stdout",
     "output_type": "stream",
     "text": [
      "JS Distance: 0.289960\n",
      "=== JS Distance 해석 가이드 ===\n",
      "0.2 ~ 0.3: 약간 다른 분포 (차이가 있음)\n"
     ]
    }
   ],
   "source": [
    "# 4. JS distance 계산\n",
    "\n",
    "\n",
    "def js_distance(p: np.ndarray, q: np.ndarray) -> float:\n",
    "    \"\"\"\n",
    "    Jensen-Shannon Distance 계산\n",
    "\n",
    "    Args:\n",
    "        p, q: 두 확률 분포 (1차원 배열)\n",
    "\n",
    "    Returns:\n",
    "        float: JS Distance 값 (0~1 범위)\n",
    "    \"\"\"\n",
    "    # JS Divergence 계산\n",
    "    js_div = js_divergence(p, q)\n",
    "\n",
    "    # JS Distance = sqrt(JS Divergence)\n",
    "    js_dist = np.sqrt(js_div)\n",
    "\n",
    "    return js_dist\n",
    "\n",
    "\n",
    "# 사용 예시\n",
    "js_dist_value = js_distance(p_hist, q_hist)\n",
    "print(f\"JS Distance: {js_dist_value:.6f}\")\n",
    "\n",
    "# JS Distance는 0~1 범위\n",
    "print(\"=== JS Distance 해석 가이드 ===\")\n",
    "\n",
    "if js_dist_value < 0.1:\n",
    "    print(\"0.0 ~ 0.1: 매우 유사한 분포 (거의 동일)\")\n",
    "elif js_dist_value < 0.2:\n",
    "    print(\"0.1 ~ 0.2: 유사한 분포 (비슷함)\")\n",
    "elif js_dist_value < 0.3:\n",
    "    print(\"0.2 ~ 0.3: 약간 다른 분포 (차이가 있음)\")\n",
    "elif js_dist_value < 0.5:\n",
    "    print(\"0.3 ~ 0.5: 상당히 다른 분포 (명확한 차이)\")\n",
    "elif js_dist_value < 0.7:\n",
    "    print(\"0.5 ~ 0.7: 매우 다른 분포 (큰 차이)\")\n",
    "else:\n",
    "    print(\"0.7 ~ 1.0: 완전히 다른 분포 (극도로 다름)\")"
   ]
  },
  {
   "cell_type": "code",
   "execution_count": 23,
   "id": "d4d8664f",
   "metadata": {},
   "outputs": [
    {
     "data": {
      "text/plain": [
       "np.float64(0.0005600815559936411)"
      ]
     },
     "execution_count": 23,
     "metadata": {},
     "output_type": "execute_result"
    }
   ],
   "source": [
    "from scipy.stats import wasserstein_distance\n",
    "\n",
    "\n",
    "def wasserstein_distance_scipy(p: np.ndarray, q: np.ndarray) -> float:\n",
    "    \"\"\"\n",
    "    scipy를 사용한 Wasserstein Distance 계산\n",
    "\n",
    "    수식: W(p,q) = Σ|x_i - y_i| / n\n",
    "    \"\"\"\n",
    "    return wasserstein_distance(p, q)\n",
    "\n",
    "\n",
    "wasserstein_distance(p_hist, q_hist)"
   ]
  }
 ],
 "metadata": {
  "kernelspec": {
   "display_name": "Python 3 (ipykernel)",
   "language": "python",
   "name": "python3"
  },
  "language_info": {
   "codemirror_mode": {
    "name": "ipython",
    "version": 3
   },
   "file_extension": ".py",
   "mimetype": "text/x-python",
   "name": "python",
   "nbconvert_exporter": "python",
   "pygments_lexer": "ipython3",
   "version": "3.11.13"
  }
 },
 "nbformat": 4,
 "nbformat_minor": 5
}
