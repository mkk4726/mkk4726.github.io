{
  "cells": [
    {
      "cell_type": "markdown",
      "metadata": {
        "vscode": {
          "languageId": "raw"
        }
      },
      "source": [
        "---\n",
        "title: \"주피터 노트북 완전 테스트 - 셀에서 메타데이터 설정\"\n",
        "date: \"2025-01-12\"\n",
        "category: \"Data Science\"\n",
        "tags: [\"jupyter\", \"python\", \"데이터분석\", \"pandas\", \"numpy\", \"matplotlib\"]\n",
        "excerpt: \"첫 번째 셀에서 메타데이터를 설정하는 방법을 보여주는 예제입니다.\"\n",
        "---"
      ]
    },
    {
      "cell_type": "markdown",
      "metadata": {},
      "source": [
        "# 주피터 노트북 완전 테스트\n",
        "\n",
        "이것은 블로그에서 주피터 노트북이 완전히 어떻게 표시되는지 테스트하는 예제입니다.\n",
        "\n",
        "## 메타데이터 설정 방법\n",
        "\n",
        "**첫 번째 셀에 YAML 형식으로 메타데이터를 설정할 수 있습니다:**\n",
        "\n",
        "```yaml\n",
        "---    \n",
        "title: \"포스트 제목\"\n",
        "date: \"날짜\"\n",
        "category: \"카테고리명\"   \n",
        "tags: [\"태그1\", \"태그2\", \"태그3\"]   \n",
        "excerpt: \"포스트 요약\"   \n",
        "---  \n",
        "```    \n",
        "\n",
        "## 데이터 분석 예제\n",
        "\n",
        "Python을 사용한 완전한 데이터 분석을 해보겠습니다.\n",
        "\n",
        "**주요 내용:**\n",
        "- 데이터 생성 및 로드\n",
        "- 기본 통계 분석\n",
        "- 데이터 시각화"
      ]
    },
    {
      "cell_type": "code",
      "execution_count": 2,
      "metadata": {},
      "outputs": [
        {
          "name": "stdout",
          "output_type": "stream",
          "text": [
            "패키지를 성공적으로 import했습니다!\n"
          ]
        }
      ],
      "source": [
        "import pandas as pd\n",
        "import numpy as np\n",
        "import matplotlib.pyplot as plt\n",
        "\n",
        "print(\"패키지를 성공적으로 import했습니다!\")\n"
      ]
    },
    {
      "cell_type": "code",
      "execution_count": 3,
      "metadata": {},
      "outputs": [
        {
          "name": "stdout",
          "output_type": "stream",
          "text": [
            "샘플 데이터를 생성했습니다.\n"
          ]
        },
        {
          "data": {
            "text/html": [
              "<div>\n",
              "<style scoped>\n",
              "    .dataframe tbody tr th:only-of-type {\n",
              "        vertical-align: middle;\n",
              "    }\n",
              "\n",
              "    .dataframe tbody tr th {\n",
              "        vertical-align: top;\n",
              "    }\n",
              "\n",
              "    .dataframe thead th {\n",
              "        text-align: right;\n",
              "    }\n",
              "</style>\n",
              "<table border=\"1\" class=\"dataframe\">\n",
              "  <thead>\n",
              "    <tr style=\"text-align: right;\">\n",
              "      <th></th>\n",
              "      <th>x</th>\n",
              "      <th>y</th>\n",
              "    </tr>\n",
              "  </thead>\n",
              "  <tbody>\n",
              "    <tr>\n",
              "      <th>0</th>\n",
              "      <td>0.496714</td>\n",
              "      <td>2.169259</td>\n",
              "    </tr>\n",
              "    <tr>\n",
              "      <th>1</th>\n",
              "      <td>-0.138264</td>\n",
              "      <td>4.158709</td>\n",
              "    </tr>\n",
              "    <tr>\n",
              "      <th>2</th>\n",
              "      <td>0.647689</td>\n",
              "      <td>4.314571</td>\n",
              "    </tr>\n",
              "    <tr>\n",
              "      <th>3</th>\n",
              "      <td>1.523030</td>\n",
              "      <td>3.395445</td>\n",
              "    </tr>\n",
              "    <tr>\n",
              "      <th>4</th>\n",
              "      <td>-0.234153</td>\n",
              "      <td>4.677429</td>\n",
              "    </tr>\n",
              "  </tbody>\n",
              "</table>\n",
              "</div>"
            ],
            "text/plain": [
              "          x         y\n",
              "0  0.496714  2.169259\n",
              "1 -0.138264  4.158709\n",
              "2  0.647689  4.314571\n",
              "3  1.523030  3.395445\n",
              "4 -0.234153  4.677429"
            ]
          },
          "execution_count": 3,
          "metadata": {},
          "output_type": "execute_result"
        }
      ],
      "source": [
        "# 샘플 데이터 생성\n",
        "np.random.seed(42)\n",
        "data = {\n",
        "    \"x\": np.random.randn(100),\n",
        "    \"y\": np.random.randn(100) * 2 + 5\n",
        "}\n",
        "df = pd.DataFrame(data)\n",
        "print(\"샘플 데이터를 생성했습니다.\")\n",
        "df.head()\n"
      ]
    },
    {
      "cell_type": "code",
      "execution_count": 4,
      "metadata": {},
      "outputs": [
        {
          "name": "stdout",
          "output_type": "stream",
          "text": [
            "기본 통계량:\n"
          ]
        },
        {
          "data": {
            "text/html": [
              "<div>\n",
              "<style scoped>\n",
              "    .dataframe tbody tr th:only-of-type {\n",
              "        vertical-align: middle;\n",
              "    }\n",
              "\n",
              "    .dataframe tbody tr th {\n",
              "        vertical-align: top;\n",
              "    }\n",
              "\n",
              "    .dataframe thead th {\n",
              "        text-align: right;\n",
              "    }\n",
              "</style>\n",
              "<table border=\"1\" class=\"dataframe\">\n",
              "  <thead>\n",
              "    <tr style=\"text-align: right;\">\n",
              "      <th></th>\n",
              "      <th>x</th>\n",
              "      <th>y</th>\n",
              "    </tr>\n",
              "  </thead>\n",
              "  <tbody>\n",
              "    <tr>\n",
              "      <th>count</th>\n",
              "      <td>100.000000</td>\n",
              "      <td>100.000000</td>\n",
              "    </tr>\n",
              "    <tr>\n",
              "      <th>mean</th>\n",
              "      <td>-0.103847</td>\n",
              "      <td>5.044609</td>\n",
              "    </tr>\n",
              "    <tr>\n",
              "      <th>std</th>\n",
              "      <td>0.908168</td>\n",
              "      <td>1.907338</td>\n",
              "    </tr>\n",
              "    <tr>\n",
              "      <th>min</th>\n",
              "      <td>-2.619745</td>\n",
              "      <td>1.162458</td>\n",
              "    </tr>\n",
              "    <tr>\n",
              "      <th>25%</th>\n",
              "      <td>-0.600906</td>\n",
              "      <td>3.388679</td>\n",
              "    </tr>\n",
              "    <tr>\n",
              "      <th>50%</th>\n",
              "      <td>-0.126956</td>\n",
              "      <td>5.168214</td>\n",
              "    </tr>\n",
              "    <tr>\n",
              "      <th>75%</th>\n",
              "      <td>0.405952</td>\n",
              "      <td>6.076341</td>\n",
              "    </tr>\n",
              "    <tr>\n",
              "      <th>max</th>\n",
              "      <td>1.852278</td>\n",
              "      <td>10.440338</td>\n",
              "    </tr>\n",
              "  </tbody>\n",
              "</table>\n",
              "</div>"
            ],
            "text/plain": [
              "                x           y\n",
              "count  100.000000  100.000000\n",
              "mean    -0.103847    5.044609\n",
              "std      0.908168    1.907338\n",
              "min     -2.619745    1.162458\n",
              "25%     -0.600906    3.388679\n",
              "50%     -0.126956    5.168214\n",
              "75%      0.405952    6.076341\n",
              "max      1.852278   10.440338"
            ]
          },
          "execution_count": 4,
          "metadata": {},
          "output_type": "execute_result"
        }
      ],
      "source": [
        "# 기본 통계량 확인\n",
        "print(\"기본 통계량:\")\n",
        "df.describe()\n"
      ]
    },
    {
      "cell_type": "markdown",
      "metadata": {
        "vscode": {
          "languageId": "raw"
        }
      },
      "source": [
        "# 결론\n",
        "\n",
        "이 예제에서는 다음을 확인했습니다:\n",
        "\n",
        "1. **데이터 생성**: NumPy를 사용하여 랜덤 데이터를 생성했습니다\n",
        "2. **기본 분석**: Pandas를 사용하여 기본 통계량을 확인했습니다\n",
        "3. **코드 실행**: 주피터 노트북의 코드 셀과 출력이 잘 표시되는지 확인했습니다\n",
        "\n",
        "주피터 노트북이 블로그에서 완벽하게 표시되고 있습니다! 🎉\n"
      ]
    }
  ],
  "metadata": {
    "category": "Data Science",
    "date": "2025-01-10",
    "excerpt": "이것은 주피터 노트북이 블로그에서 완전히 표시되는지 테스트하는 예제입니다.",
    "kernelspec": {
      "display_name": "base",
      "language": "python",
      "name": "python3"
    },
    "language_info": {
      "codemirror_mode": {
        "name": "ipython",
        "version": 3
      },
      "file_extension": ".py",
      "mimetype": "text/x-python",
      "name": "python",
      "nbconvert_exporter": "python",
      "pygments_lexer": "ipython3",
      "version": "3.12.2"
    },
    "tags": [
      "jupyter",
      "python",
      "데이터분석",
      "pandas",
      "numpy"
    ],
    "title": "주피터 노트북 완전 테스트"
  },
  "nbformat": 4,
  "nbformat_minor": 2
}
