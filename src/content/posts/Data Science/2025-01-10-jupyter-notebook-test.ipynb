{
  "cells": [
    {
      "cell_type": "markdown",
      "metadata": {
        "vscode": {
          "languageId": "raw"
        }
      },
      "source": [
        "---\n",
        "title: \"주피터 노트북 완전 테스트 - 셀에서 메타데이터 설정\"\n",
        "category: \"Data Science\"\n",
        "tags: [\"jupyter\", \"python\", \"데이터분석\", \"pandas\", \"numpy\", \"matplotlib\"]\n",
        "excerpt: \"첫 번째 셀에서 메타데이터를 설정하는 방법을 보여주는 예제입니다.\"\n",
        "---\n",
        "\n",
        "# 주피터 노트북 완전 테스트\n",
        "\n",
        "이것은 블로그에서 주피터 노트북이 완전히 어떻게 표시되는지 테스트하는 예제입니다.\n",
        "\n",
        "## 메타데이터 설정 방법\n",
        "\n",
        "**첫 번째 셀에 YAML 형식으로 메타데이터를 설정할 수 있습니다:**\n",
        "\n",
        "```yaml\n",
        "---\n",
        "title: \"포스트 제목\"\n",
        "category: \"카테고리명\"\n",
        "tags: [\"태그1\", \"태그2\", \"태그3\"]\n",
        "excerpt: \"포스트 요약\"\n",
        "---\n",
        "```\n",
        "\n",
        "## 데이터 분석 예제\n",
        "\n",
        "Python을 사용한 완전한 데이터 분석을 해보겠습니다.\n",
        "\n",
        "**주요 내용:**\n",
        "- 데이터 생성 및 로드\n",
        "- 기본 통계 분석\n",
        "- 데이터 시각화\n"
      ]
    },
    {
      "cell_type": "code",
      "execution_count": null,
      "metadata": {},
      "outputs": [],
      "source": [
        "import pandas as pd\n",
        "import numpy as np\n",
        "import matplotlib.pyplot as plt\n",
        "\n",
        "print(\"패키지를 성공적으로 import했습니다!\")\n"
      ]
    },
    {
      "cell_type": "code",
      "execution_count": null,
      "metadata": {},
      "outputs": [],
      "source": [
        "# 샘플 데이터 생성\n",
        "np.random.seed(42)\n",
        "data = {\n",
        "    \"x\": np.random.randn(100),\n",
        "    \"y\": np.random.randn(100) * 2 + 5\n",
        "}\n",
        "df = pd.DataFrame(data)\n",
        "print(\"샘플 데이터를 생성했습니다.\")\n",
        "df.head()\n"
      ]
    },
    {
      "cell_type": "code",
      "execution_count": null,
      "metadata": {},
      "outputs": [],
      "source": [
        "# 기본 통계량 확인\n",
        "print(\"기본 통계량:\")\n",
        "df.describe()\n"
      ]
    },
    {
      "cell_type": "raw",
      "metadata": {
        "vscode": {
          "languageId": "raw"
        }
      },
      "source": [
        "## 결론\n",
        "\n",
        "이 예제에서는 다음을 확인했습니다:\n",
        "\n",
        "1. **데이터 생성**: NumPy를 사용하여 랜덤 데이터를 생성했습니다\n",
        "2. **기본 분석**: Pandas를 사용하여 기본 통계량을 확인했습니다\n",
        "3. **코드 실행**: 주피터 노트북의 코드 셀과 출력이 잘 표시되는지 확인했습니다\n",
        "\n",
        "주피터 노트북이 블로그에서 완벽하게 표시되고 있습니다! 🎉\n"
      ]
    }
  ],
  "metadata": {
    "category": "Data Science",
    "date": "2025-01-10",
    "excerpt": "이것은 주피터 노트북이 블로그에서 완전히 표시되는지 테스트하는 예제입니다.",
    "kernelspec": {
      "display_name": "Python 3",
      "language": "python",
      "name": "python3"
    },
    "language_info": {
      "name": "python",
      "version": "3.9.0"
    },
    "tags": [
      "jupyter",
      "python",
      "데이터분석",
      "pandas",
      "numpy"
    ],
    "title": "주피터 노트북 완전 테스트"
  },
  "nbformat": 4,
  "nbformat_minor": 2
}
