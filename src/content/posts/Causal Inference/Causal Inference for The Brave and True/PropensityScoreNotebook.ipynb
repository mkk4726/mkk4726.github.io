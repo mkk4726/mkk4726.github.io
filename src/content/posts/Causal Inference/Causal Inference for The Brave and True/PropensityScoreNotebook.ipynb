{
 "cells": [
  {
   "cell_type": "markdown",
   "id": "c270f04b",
   "metadata": {},
   "source": [
    "---\n",
    "title: \"Propensity Score Notebook\"\n",
    "date: \"2025-07-17\"\n",
    "excerpt: \"Propensity Score Notebook\"\n",
    "category: \"Causal Inference\"\n",
    "tags: [\"Causal Inference\"]\n",
    "---"
   ]
  },
  {
   "cell_type": "markdown",
   "id": "f0b9ae91",
   "metadata": {},
   "source": [
    "[Propensity Score](https://matheusfacure.github.io/python-causality-handbook/11-Propensity-Score.html)"
   ]
  },
  {
   "cell_type": "markdown",
   "id": "3dec735f",
   "metadata": {},
   "source": [
    "# The Psychology of Growth"
   ]
  },
  {
   "cell_type": "markdown",
   "id": "a027b61c",
   "metadata": {},
   "source": [
    "치료(treatment)와 결과(outcome) 변수 외에도, 이 연구에서는 다음과 같은 다른 특성들도 기록했습니다:\n",
    "\n",
    "- **schoolid**: 학생의 학교 식별자;\n",
    "- **success_expect**: 미래 성공에 대한 자가 보고 기대치, 사전 성취도의 대용 지표로, 무작위 배정 전에 측정됨;\n",
    "\n",
    "- **gender**: 학생이 식별한 성별의 범주형 변수;\n",
    "- **frst_in_family**: 학생의 1세대 대학생 지위에 대한 범주형 변수, 즉 가족 중 대학에 진학한 첫 번째 사람;\n",
    "- **school_urbanicity**: 학교의 도시화 정도에 대한 학교 수준의 범주형 변수, 즉 농촌, 교외 등;\n",
    "\n",
    "- **school_mindset**: 학생들의 고정된 사고방식의 학교 수준 평균, 무작위 배정 전에 보고됨, 표준화됨;\n",
    "\n",
    "- **school_achievement**: 학교 성취 수준, 이전 4개 학년 학생들의 시험 점수와 대학 준비도를 측정한 것으로, 표준화됨;\n",
    "\n",
    "- **school_ethnic_minority**: 학교 인종/민족 소수자 구성, 즉 흑인, 라티노, 또는 아메리카 원주민인 학생 비율, 표준화됨;\n",
    "\n",
    "- **school_poverty**: 학교 빈곤 집중도, 즉 연방 빈곤선 이하 소득을 가진 가정 출신 학생들의 비율, 표준화됨;\n",
    "\n",
    "- **school_size**: 학교의 모든 4개 학년 학생들의 총 수, 표준화됨."
   ]
  },
  {
   "cell_type": "code",
   "execution_count": 1,
   "id": "28bd6d7a",
   "metadata": {},
   "outputs": [
    {
     "data": {
      "text/html": [
       "<div>\n",
       "<style scoped>\n",
       "    .dataframe tbody tr th:only-of-type {\n",
       "        vertical-align: middle;\n",
       "    }\n",
       "\n",
       "    .dataframe tbody tr th {\n",
       "        vertical-align: top;\n",
       "    }\n",
       "\n",
       "    .dataframe thead th {\n",
       "        text-align: right;\n",
       "    }\n",
       "</style>\n",
       "<table border=\"1\" class=\"dataframe\">\n",
       "  <thead>\n",
       "    <tr style=\"text-align: right;\">\n",
       "      <th></th>\n",
       "      <th>schoolid</th>\n",
       "      <th>intervention</th>\n",
       "      <th>achievement_score</th>\n",
       "      <th>success_expect</th>\n",
       "      <th>ethnicity</th>\n",
       "      <th>gender</th>\n",
       "      <th>frst_in_family</th>\n",
       "      <th>school_urbanicity</th>\n",
       "      <th>school_mindset</th>\n",
       "      <th>school_achievement</th>\n",
       "      <th>school_ethnic_minority</th>\n",
       "      <th>school_poverty</th>\n",
       "      <th>school_size</th>\n",
       "    </tr>\n",
       "  </thead>\n",
       "  <tbody>\n",
       "    <tr>\n",
       "      <th>259</th>\n",
       "      <td>73</td>\n",
       "      <td>1</td>\n",
       "      <td>1.480828</td>\n",
       "      <td>5</td>\n",
       "      <td>1</td>\n",
       "      <td>2</td>\n",
       "      <td>0</td>\n",
       "      <td>1</td>\n",
       "      <td>-0.462945</td>\n",
       "      <td>0.652608</td>\n",
       "      <td>-0.515202</td>\n",
       "      <td>-0.169849</td>\n",
       "      <td>0.173954</td>\n",
       "    </tr>\n",
       "    <tr>\n",
       "      <th>3435</th>\n",
       "      <td>76</td>\n",
       "      <td>0</td>\n",
       "      <td>-0.987277</td>\n",
       "      <td>5</td>\n",
       "      <td>13</td>\n",
       "      <td>1</td>\n",
       "      <td>1</td>\n",
       "      <td>4</td>\n",
       "      <td>0.334544</td>\n",
       "      <td>0.648586</td>\n",
       "      <td>-1.310927</td>\n",
       "      <td>0.224077</td>\n",
       "      <td>-0.426757</td>\n",
       "    </tr>\n",
       "    <tr>\n",
       "      <th>9963</th>\n",
       "      <td>4</td>\n",
       "      <td>0</td>\n",
       "      <td>-0.152340</td>\n",
       "      <td>5</td>\n",
       "      <td>2</td>\n",
       "      <td>2</td>\n",
       "      <td>1</td>\n",
       "      <td>0</td>\n",
       "      <td>-2.289636</td>\n",
       "      <td>0.190797</td>\n",
       "      <td>0.875012</td>\n",
       "      <td>-0.724801</td>\n",
       "      <td>0.761781</td>\n",
       "    </tr>\n",
       "    <tr>\n",
       "      <th>4488</th>\n",
       "      <td>67</td>\n",
       "      <td>0</td>\n",
       "      <td>0.358336</td>\n",
       "      <td>6</td>\n",
       "      <td>14</td>\n",
       "      <td>1</td>\n",
       "      <td>0</td>\n",
       "      <td>4</td>\n",
       "      <td>-1.115337</td>\n",
       "      <td>1.053089</td>\n",
       "      <td>0.315755</td>\n",
       "      <td>0.054586</td>\n",
       "      <td>1.862187</td>\n",
       "    </tr>\n",
       "    <tr>\n",
       "      <th>2637</th>\n",
       "      <td>16</td>\n",
       "      <td>1</td>\n",
       "      <td>1.360920</td>\n",
       "      <td>6</td>\n",
       "      <td>4</td>\n",
       "      <td>1</td>\n",
       "      <td>0</td>\n",
       "      <td>1</td>\n",
       "      <td>-0.538975</td>\n",
       "      <td>1.433826</td>\n",
       "      <td>-0.033161</td>\n",
       "      <td>-0.982274</td>\n",
       "      <td>1.591641</td>\n",
       "    </tr>\n",
       "  </tbody>\n",
       "</table>\n",
       "</div>"
      ],
      "text/plain": [
       "      schoolid  intervention  achievement_score  success_expect  ethnicity  \\\n",
       "259         73             1           1.480828               5          1   \n",
       "3435        76             0          -0.987277               5         13   \n",
       "9963         4             0          -0.152340               5          2   \n",
       "4488        67             0           0.358336               6         14   \n",
       "2637        16             1           1.360920               6          4   \n",
       "\n",
       "      gender  frst_in_family  school_urbanicity  school_mindset  \\\n",
       "259        2               0                  1       -0.462945   \n",
       "3435       1               1                  4        0.334544   \n",
       "9963       2               1                  0       -2.289636   \n",
       "4488       1               0                  4       -1.115337   \n",
       "2637       1               0                  1       -0.538975   \n",
       "\n",
       "      school_achievement  school_ethnic_minority  school_poverty  school_size  \n",
       "259             0.652608               -0.515202       -0.169849     0.173954  \n",
       "3435            0.648586               -1.310927        0.224077    -0.426757  \n",
       "9963            0.190797                0.875012       -0.724801     0.761781  \n",
       "4488            1.053089                0.315755        0.054586     1.862187  \n",
       "2637            1.433826               -0.033161       -0.982274     1.591641  "
      ]
     },
     "execution_count": 1,
     "metadata": {},
     "output_type": "execute_result"
    }
   ],
   "source": [
    "import pandas as pd\n",
    "\n",
    "pd.set_option(\"display.max_columns\", None)\n",
    "\n",
    "data = pd.read_csv(\"./data/learning_mindset.csv\")\n",
    "data.sample(5, random_state=5)"
   ]
  },
  {
   "cell_type": "markdown",
   "id": "6b1fb520",
   "metadata": {},
   "source": [
    "> Although the study was randomised, it doesn’t seem to be the case that this data is free from confounding\n",
    "\n",
    "> So, although the opportunity to participate was random, participation itself is not. We are dealing with a case of non-compliance here.\n",
    "\n",
    "\n",
    "마인드셋을 바꾸는 프로그램 참여 여부는 랜덤하게 주어졌지만, 실제로 참석하는데에는 학생들의 개별적인 요인의 영향이 있으니까"
   ]
  },
  {
   "cell_type": "code",
   "execution_count": 3,
   "id": "57f9c738",
   "metadata": {},
   "outputs": [
    {
     "data": {
      "text/html": [
       "<div>\n",
       "<style scoped>\n",
       "    .dataframe tbody tr th:only-of-type {\n",
       "        vertical-align: middle;\n",
       "    }\n",
       "\n",
       "    .dataframe tbody tr th {\n",
       "        vertical-align: top;\n",
       "    }\n",
       "\n",
       "    .dataframe thead th {\n",
       "        text-align: right;\n",
       "    }\n",
       "</style>\n",
       "<table border=\"1\" class=\"dataframe\">\n",
       "  <thead>\n",
       "    <tr style=\"text-align: right;\">\n",
       "      <th></th>\n",
       "      <th>mean</th>\n",
       "      <th>count</th>\n",
       "    </tr>\n",
       "    <tr>\n",
       "      <th>success_expect</th>\n",
       "      <th></th>\n",
       "      <th></th>\n",
       "    </tr>\n",
       "  </thead>\n",
       "  <tbody>\n",
       "    <tr>\n",
       "      <th>1</th>\n",
       "      <td>0.271739</td>\n",
       "      <td>92</td>\n",
       "    </tr>\n",
       "    <tr>\n",
       "      <th>2</th>\n",
       "      <td>0.265957</td>\n",
       "      <td>188</td>\n",
       "    </tr>\n",
       "    <tr>\n",
       "      <th>3</th>\n",
       "      <td>0.294118</td>\n",
       "      <td>476</td>\n",
       "    </tr>\n",
       "    <tr>\n",
       "      <th>4</th>\n",
       "      <td>0.271617</td>\n",
       "      <td>1064</td>\n",
       "    </tr>\n",
       "    <tr>\n",
       "      <th>5</th>\n",
       "      <td>0.311070</td>\n",
       "      <td>3803</td>\n",
       "    </tr>\n",
       "    <tr>\n",
       "      <th>6</th>\n",
       "      <td>0.354287</td>\n",
       "      <td>3802</td>\n",
       "    </tr>\n",
       "    <tr>\n",
       "      <th>7</th>\n",
       "      <td>0.362319</td>\n",
       "      <td>966</td>\n",
       "    </tr>\n",
       "  </tbody>\n",
       "</table>\n",
       "</div>"
      ],
      "text/plain": [
       "                    mean  count\n",
       "success_expect                 \n",
       "1               0.271739     92\n",
       "2               0.265957    188\n",
       "3               0.294118    476\n",
       "4               0.271617   1064\n",
       "5               0.311070   3803\n",
       "6               0.354287   3802\n",
       "7               0.362319    966"
      ]
     },
     "execution_count": 3,
     "metadata": {},
     "output_type": "execute_result"
    }
   ],
   "source": [
    "data.groupby(\"success_expect\")[\"intervention\"].agg([\"mean\", \"count\"])"
   ]
  },
  {
   "cell_type": "markdown",
   "id": "6dc258de",
   "metadata": {},
   "source": [
    "> One evidence of this is how the student’s success expectation is correlated with the participation in the seminar. \n",
    "\n",
    "> Students with higher self-reported success expectation are more likely to have joined the growth mindset seminar.\n",
    "\n"
   ]
  },
  {
   "cell_type": "markdown",
   "id": "dfdd5448",
   "metadata": {},
   "source": [
    "스스로 더 높은 기대가 있는 학생들이 실제로 더 많이 세미나에 참석하더라 -> confounding bias가 존재한다."
   ]
  },
  {
   "cell_type": "markdown",
   "id": "04b465fe",
   "metadata": {},
   "source": [
    "> Still, let’s see what the difference in means looks like. This will be a useful baseline to compare against.\n",
    "\n",
    "$$\n",
    "\\hat{ATE} = \\frac{1}{N} \\sum_{i=1}^{N} (Y_i(1) - Y_i(0)) = E[Y_i(1)] - E[Y_i(0)]\n",
    "$$"
   ]
  },
  {
   "cell_type": "code",
   "execution_count": 4,
   "id": "e685f177",
   "metadata": {},
   "outputs": [
    {
     "data": {
      "text/html": [
       "<table class=\"simpletable\">\n",
       "<tr>\n",
       "        <td></td>          <th>coef</th>     <th>std err</th>      <th>t</th>      <th>P>|t|</th>  <th>[0.025</th>    <th>0.975]</th>  \n",
       "</tr>\n",
       "<tr>\n",
       "  <th>Intercept</th>    <td>   -0.1538</td> <td>    0.012</td> <td>  -13.201</td> <td> 0.000</td> <td>   -0.177</td> <td>   -0.131</td>\n",
       "</tr>\n",
       "<tr>\n",
       "  <th>intervention</th> <td>    0.4723</td> <td>    0.020</td> <td>   23.133</td> <td> 0.000</td> <td>    0.432</td> <td>    0.512</td>\n",
       "</tr>\n",
       "</table>"
      ],
      "text/latex": [
       "\\begin{center}\n",
       "\\begin{tabular}{lcccccc}\n",
       "\\toprule\n",
       "                      & \\textbf{coef} & \\textbf{std err} & \\textbf{t} & \\textbf{P$> |$t$|$} & \\textbf{[0.025} & \\textbf{0.975]}  \\\\\n",
       "\\midrule\n",
       "\\textbf{Intercept}    &      -0.1538  &        0.012     &   -13.201  &         0.000        &       -0.177    &       -0.131     \\\\\n",
       "\\textbf{intervention} &       0.4723  &        0.020     &    23.133  &         0.000        &        0.432    &        0.512     \\\\\n",
       "\\bottomrule\n",
       "\\end{tabular}\n",
       "\\end{center}"
      ],
      "text/plain": [
       "<class 'statsmodels.iolib.table.SimpleTable'>"
      ]
     },
     "execution_count": 4,
     "metadata": {},
     "output_type": "execute_result"
    }
   ],
   "source": [
    "import statsmodels.formula.api as smf\n",
    "\n",
    "smf.ols(\"achievement_score ~ intervention\", data=data).fit().summary().tables[1]"
   ]
  },
  {
   "cell_type": "markdown",
   "id": "d806437b",
   "metadata": {},
   "source": [
    "처치가 0또는 1이기 때문에 처치만을 가지고 결과를 예측하는 회귀식을 통해 $E[Y_i(1)]$과 $E[Y_i(0)]$을 추정할 수 있다.  \n",
    "\n",
    "처치 혹은 개입이 있는 경우 없는 경우보다 평균적으로 0.4723정도 높다.    \n",
    "근데 이정도 차이면 큰건가?"
   ]
  },
  {
   "cell_type": "markdown",
   "id": "1349ad43",
   "metadata": {},
   "source": [
    "> But is this big or small? I know that interpreting standardized outcomes can be challenging, but bear with me for a moment. \n",
    "\n",
    "> I think it is worth going through this because it won’t be the last time you will encounter standardized scores."
   ]
  },
  {
   "cell_type": "markdown",
   "id": "3789886b",
   "metadata": {},
   "source": [
    "score가 정규화되었기 때문에 이 단위는 std다.   \n",
    "따라서 0.4723이란 의미는 약 0.5std 정도 차이가 있다는 의미.\n",
    "\n",
    "> Since the treated group has an average standardized score of about 0.5, this means that they fall above 70% in terms of individual achievement.    \n",
    "> Or, in other words, they are in the top 30% who achieve more. Here is what this looks like in a picture."
   ]
  },
  {
   "cell_type": "code",
   "execution_count": 5,
   "id": "e03066cb",
   "metadata": {},
   "outputs": [
    {
     "data": {
      "text/plain": [
       "<matplotlib.legend.Legend at 0x140026140>"
      ]
     },
     "execution_count": 5,
     "metadata": {},
     "output_type": "execute_result"
    },
    {
     "data": {
      "image/png": "[encoded data removed]",
      "text/plain": [
       "<Figure size 640x480 with 1 Axes>"
      ]
     },
     "metadata": {},
     "output_type": "display_data"
    }
   ],
   "source": [
    "import matplotlib.pyplot as plt\n",
    "\n",
    "plt.hist(data[\"achievement_score\"], bins=20, alpha=0.3, label=\"All\")\n",
    "plt.hist(data.query(\"intervention==0\")[\"achievement_score\"], bins=20, alpha=0.3, color=\"C2\")\n",
    "plt.hist(data.query(\"intervention==1\")[\"achievement_score\"], bins=20, alpha=0.3, color=\"C3\")\n",
    "plt.vlines(-0.1538, 0, 300, label=\"Untreated\", color=\"C2\")\n",
    "plt.vlines(-0.1538+0.4723, 0, 300, label=\"Treated\", color=\"C3\")\n",
    "plt.legend()"
   ]
  },
  {
   "cell_type": "markdown",
   "id": "537073eb",
   "metadata": {},
   "source": [
    "> Of course, we still think this result is biased.     \n",
    "> The difference between treated and untreated is probably smaller than this, because we think the bias is positive"
   ]
  },
  {
   "cell_type": "markdown",
   "id": "1c9c4694",
   "metadata": {},
   "source": [
    "과연 이정도 차이 나는게 맞을까? 앞서 확인한 것처럼 편향이 존재한다는 것을 확인했다.    \n",
    "비교군 사이에 스스로 기대하는 정도 (success_expect)가 차이가 있었고, 이는 성공확률에 영향을 미치는 요인이 될 수 있다."
   ]
  },
  {
   "cell_type": "markdown",
   "id": "6c4dc29d",
   "metadata": {},
   "source": [
    "# Propensity Score"
   ]
  },
  {
   "cell_type": "markdown",
   "id": "1b940f42",
   "metadata": {},
   "source": [
    "> Propensity score comes from the realisation that you don’t need to directly control for confounders X to achieve conditional independence $(Y_1, Y_0) \\perp T | X$ \n",
    "   \n",
    "> Instead, it is sufficient to control for a balancing score $E(T|X)$"
   ]
  },
  {
   "cell_type": "markdown",
   "id": "4785eeea",
   "metadata": {},
   "source": [
    "편향을 제거하고 조건부 독립성을 만족하기 위해서는 X를 통제해야하는데, 이게 어려우니까 이를 대신해서 X일때 T일 확률($e(x)$, propensity score)을 통제하자는 컨셉   \n",
    "\n",
    "\n",
    "$$(Y_1, Y_0) \\perp T | e(x)$$"
   ]
  },
  {
   "cell_type": "code",
   "execution_count": 6,
   "id": "42c29a44",
   "metadata": {},
   "outputs": [
    {
     "data": {
      "image/svg+xml": [
       "<?xml version=\"1.0\" encoding=\"UTF-8\" standalone=\"no\"?>\n",
       "<!DOCTYPE svg PUBLIC \"-//W3C//DTD SVG 1.1//EN\"\n",
       " \"http://www.w3.org/Graphics/SVG/1.1/DTD/svg11.dtd\">\n",
       "<!-- Generated by graphviz version 12.2.1 (20241206.2353)\n",
       " -->\n",
       "<!-- Pages: 1 -->\n",
       "<svg width=\"90pt\" height=\"260pt\"\n",
       " viewBox=\"0.00 0.00 90.00 260.00\" xmlns=\"http://www.w3.org/2000/svg\" xmlns:xlink=\"http://www.w3.org/1999/xlink\">\n",
       "<g id=\"graph0\" class=\"graph\" transform=\"scale(1 1) rotate(0) translate(4 256)\">\n",
       "<polygon fill=\"white\" stroke=\"none\" points=\"-4,4 -4,-256 86,-256 86,4 -4,4\"/>\n",
       "<!-- T -->\n",
       "<g id=\"node1\" class=\"node\">\n",
       "<title>T</title>\n",
       "<ellipse fill=\"none\" stroke=\"black\" cx=\"55\" cy=\"-90\" rx=\"27\" ry=\"18\"/>\n",
       "<text text-anchor=\"middle\" x=\"55\" y=\"-84.95\" font-family=\"Times,serif\" font-size=\"14.00\">T</text>\n",
       "</g>\n",
       "<!-- Y -->\n",
       "<g id=\"node2\" class=\"node\">\n",
       "<title>Y</title>\n",
       "<ellipse fill=\"none\" stroke=\"black\" cx=\"27\" cy=\"-18\" rx=\"27\" ry=\"18\"/>\n",
       "<text text-anchor=\"middle\" x=\"27\" y=\"-12.95\" font-family=\"Times,serif\" font-size=\"14.00\">Y</text>\n",
       "</g>\n",
       "<!-- T&#45;&gt;Y -->\n",
       "<g id=\"edge1\" class=\"edge\">\n",
       "<title>T&#45;&gt;Y</title>\n",
       "<path fill=\"none\" stroke=\"black\" d=\"M48.36,-72.41C45.23,-64.57 41.4,-54.99 37.85,-46.13\"/>\n",
       "<polygon fill=\"black\" stroke=\"black\" points=\"41.11,-44.86 34.15,-36.88 34.61,-47.46 41.11,-44.86\"/>\n",
       "</g>\n",
       "<!-- X -->\n",
       "<g id=\"node3\" class=\"node\">\n",
       "<title>X</title>\n",
       "<ellipse fill=\"none\" stroke=\"black\" cx=\"27\" cy=\"-234\" rx=\"27\" ry=\"18\"/>\n",
       "<text text-anchor=\"middle\" x=\"27\" y=\"-228.95\" font-family=\"Times,serif\" font-size=\"14.00\">X</text>\n",
       "</g>\n",
       "<!-- X&#45;&gt;Y -->\n",
       "<g id=\"edge2\" class=\"edge\">\n",
       "<title>X&#45;&gt;Y</title>\n",
       "<path fill=\"none\" stroke=\"black\" d=\"M23.75,-215.89C21.95,-205.54 19.91,-192.06 19,-180 15.41,-132.13 15.41,-119.87 19,-72 19.6,-63.99 20.71,-55.35 21.91,-47.43\"/>\n",
       "<polygon fill=\"black\" stroke=\"black\" points=\"25.35,-48.04 23.51,-37.61 18.45,-46.91 25.35,-48.04\"/>\n",
       "</g>\n",
       "<!-- e(x) -->\n",
       "<g id=\"node4\" class=\"node\">\n",
       "<title>e(x)</title>\n",
       "<ellipse fill=\"none\" stroke=\"black\" cx=\"55\" cy=\"-162\" rx=\"27\" ry=\"18\"/>\n",
       "<text text-anchor=\"middle\" x=\"55\" y=\"-156.95\" font-family=\"Times,serif\" font-size=\"14.00\">e(x)</text>\n",
       "</g>\n",
       "<!-- X&#45;&gt;e(x) -->\n",
       "<g id=\"edge3\" class=\"edge\">\n",
       "<title>X&#45;&gt;e(x)</title>\n",
       "<path fill=\"none\" stroke=\"black\" d=\"M33.64,-216.41C36.77,-208.57 40.6,-198.99 44.15,-190.13\"/>\n",
       "<polygon fill=\"black\" stroke=\"black\" points=\"47.39,-191.46 47.85,-180.88 40.89,-188.86 47.39,-191.46\"/>\n",
       "</g>\n",
       "<!-- e(x)&#45;&gt;T -->\n",
       "<g id=\"edge4\" class=\"edge\">\n",
       "<title>e(x)&#45;&gt;T</title>\n",
       "<path fill=\"none\" stroke=\"black\" d=\"M55,-143.7C55,-136.41 55,-127.73 55,-119.54\"/>\n",
       "<polygon fill=\"black\" stroke=\"black\" points=\"58.5,-119.62 55,-109.62 51.5,-119.62 58.5,-119.62\"/>\n",
       "</g>\n",
       "</g>\n",
       "</svg>\n"
      ],
      "text/plain": [
       "<graphviz.graphs.Digraph at 0x1417f3100>"
      ]
     },
     "execution_count": 6,
     "metadata": {},
     "output_type": "execute_result"
    }
   ],
   "source": [
    "import graphviz as gr\n",
    "\n",
    "g = gr.Digraph()\n",
    "g.edge(\"T\", \"Y\")\n",
    "g.edge(\"X\", \"Y\")\n",
    "g.edge(\"X\", \"e(x)\")\n",
    "g.edge(\"e(x)\", \"T\")\n",
    "g"
   ]
  },
  {
   "cell_type": "markdown",
   "id": "a4925c17",
   "metadata": {},
   "source": [
    "> If I know what e(x) is, X alone tells me nothing more that can help me learn what T would be.\n",
    "  \n",
    "> Which means that controlling for e(x) acts the same way as controlling for X directly"
   ]
  },
  {
   "cell_type": "markdown",
   "id": "c0d52706",
   "metadata": {},
   "source": [
    "데이터의 편향을 생각해보면, success expect가 높은 학생은 본인 일도 열심히하고 세미나에 참석할 확률도 높을 것이다.   \n",
    "따라서 랜덤으로 기회를 줬지만 실제로는 원래 성공할 확률이 높은 학생이 세미나에 참석할 확률이 더 높음.\n",
    "\n",
    "> Think about it. If they have the exact same probability of receiving the treatment, the only reason one of them received it and the other did not is pure chance.    \n",
    "> Holding the propensity score constant acts in a way of making the data look as good as random.\n",
    "  \n",
    "  \n",
    "참석할 확률을 같게 만든다면, 원래 목적처럼 참석할 확률이 랜덤하게 된다."
   ]
  },
  {
   "cell_type": "markdown",
   "id": "ccc8cd96",
   "metadata": {},
   "source": [
    "# Propensity Weighting"
   ]
  },
  {
   "cell_type": "markdown",
   "id": "3ba00e0c",
   "metadata": {},
   "source": [
    "$$\n",
    "E[Y | X, T = 1] - E[Y | X, T = 0] = E[\\frac{Y}{e(x)} | X, T = 1]P(T) - E[\\frac{Y}{(1 - e(x))} | X, T = 0](1 - P(T))\n",
    "$$"
   ]
  },
  {
   "cell_type": "markdown",
   "id": "f794e93d",
   "metadata": {},
   "source": [
    "처치를 받은 것 중에 처치를 받지 않을 것 같은 샘플 ($e(x)$가 낮은 경우)는 큰 가중치를 주고,   \n",
    "반대로 처치를 받지 않은 것 중에 처치를 받을 것 같은 샘플 ($e(x)$가 높은 경우)는 큰 가중치를 주는.    \n",
    "  \n",
    "이러한 가중치는 직관적인 생각과 일치한다.   \n",
    "왜냐하면 처치를 받은 것 중에 처치를 받을 확률이 높은 건 랜덤에 가깝게 하려면 낮춰야 하고, 처치를 받을 확률이 낮은 건 랜덤에 가깝게 하려면 높여야하기 때문이다.\n",
    "\n",
    "> This estimator is called the Inverse Probability of Treatment Weighting (IPTW), since it scales each unit by the inverse probability of the treatment it received."
   ]
  },
  {
   "cell_type": "markdown",
   "id": "b09c732a",
   "metadata": {},
   "source": [
    "![iptw 적용한 예제](/post/Causal_Inference_for_The_Brave_and_True/iptw/iptw.png)"
   ]
  },
  {
   "cell_type": "code",
   "execution_count": null,
   "id": "1ae75890",
   "metadata": {},
   "outputs": [],
   "source": []
  }
 ],
 "metadata": {
  "kernelspec": {
   "display_name": "ocr_venv",
   "language": "python",
   "name": "python3"
  },
  "language_info": {
   "codemirror_mode": {
    "name": "ipython",
    "version": 3
   },
   "file_extension": ".py",
   "mimetype": "text/x-python",
   "name": "python",
   "nbconvert_exporter": "python",
   "pygments_lexer": "ipython3",
   "version": "3.10.8"
  }
 },
 "nbformat": 4,
 "nbformat_minor": 5
}
