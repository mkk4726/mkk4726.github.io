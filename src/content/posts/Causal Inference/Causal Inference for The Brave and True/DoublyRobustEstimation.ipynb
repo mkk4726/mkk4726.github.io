{
 "cells": [
  {
   "cell_type": "code",
   "execution_count": null,
   "id": "1d9cd950",
   "metadata": {},
   "outputs": [],
   "source": []
  },
  {
   "cell_type": "code",
   "execution_count": null,
   "id": "76e1c150",
   "metadata": {},
   "outputs": [],
   "source": []
  }
 ],
 "metadata": {
  "kernelspec": {
   "display_name": "ocr_venv",
   "language": "python",
   "name": "python3"
  },
  "language_info": {
   "name": "python",
   "version": "3.10.8"
  }
 },
 "nbformat": 4,
 "nbformat_minor": 5
}
